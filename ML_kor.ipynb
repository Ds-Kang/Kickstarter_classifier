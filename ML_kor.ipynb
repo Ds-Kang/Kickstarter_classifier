{
 "cells": [
  {
   "cell_type": "markdown",
   "metadata": {},
   "source": [
    "# Final Assignment of Machine Learing\n",
    "\n",
    "# Analysis of success using various models in Kickstater\n",
    "\n",
    "This is experiment about who registered at Kickstarter "
   ]
  },
  {
   "cell_type": "markdown",
   "metadata": {},
   "source": [
    "# 기계학습 기말과제 \n",
    "\n",
    "## KickStarter의 다양한 모델을 이용한 성공여부 분석\n",
    "\n",
    "Kickstarter에서 사업이나 상품을 등록한 사람이 모금 목표액을 채울 수 있을 지의 여부에 대한 예측을 할 수 있도록 다양한 모델에 대한 실험이다. kickstart란 개인이나 기업이 상품 아이디어, 기한, 모금 목표액을 선택하여 등록하면 킥스타터의 회원들이 후원을 통해 지원하는 캠페인이다.\n",
    "\n",
    "먼저 데이터의 attribute 중에 사용할 수 있는 것들을 필요한 값들로 변환을 해주는 과정을 통해 적합한 attribute set을 만들어 주었다. 그 후 Decision Tree, Multi-Layered Perceptron, Random Forest, Naive Bayes, Keras의 딥러닝 라이브러리를 사용하여 모델을 만들어서 성능을 평가하여 적합한 모델을 찾는 과정을 가지는 실험이였다."
   ]
  },
  {
   "cell_type": "code",
   "execution_count": 1,
   "metadata": {},
   "outputs": [],
   "source": [
    "import pandas as pd"
   ]
  },
  {
   "cell_type": "code",
   "execution_count": 2,
   "metadata": {},
   "outputs": [],
   "source": [
    "train_path = 'C:/Users/User/JupyterNotebook/ML/ks-projects-201801.csv'"
   ]
  },
  {
   "cell_type": "code",
   "execution_count": 3,
   "metadata": {},
   "outputs": [],
   "source": [
    "ks = pd.read_csv(train_path)"
   ]
  },
  {
   "cell_type": "code",
   "execution_count": 4,
   "metadata": {
    "scrolled": true
   },
   "outputs": [
    {
     "data": {
      "text/html": [
       "<div>\n",
       "<style scoped>\n",
       "    .dataframe tbody tr th:only-of-type {\n",
       "        vertical-align: middle;\n",
       "    }\n",
       "\n",
       "    .dataframe tbody tr th {\n",
       "        vertical-align: top;\n",
       "    }\n",
       "\n",
       "    .dataframe thead th {\n",
       "        text-align: right;\n",
       "    }\n",
       "</style>\n",
       "<table border=\"1\" class=\"dataframe\">\n",
       "  <thead>\n",
       "    <tr style=\"text-align: right;\">\n",
       "      <th></th>\n",
       "      <th>ID</th>\n",
       "      <th>name</th>\n",
       "      <th>category</th>\n",
       "      <th>main_category</th>\n",
       "      <th>currency</th>\n",
       "      <th>deadline</th>\n",
       "      <th>goal</th>\n",
       "      <th>launched</th>\n",
       "      <th>pledged</th>\n",
       "      <th>state</th>\n",
       "      <th>backers</th>\n",
       "      <th>country</th>\n",
       "      <th>usd pledged</th>\n",
       "      <th>usd_pledged_real</th>\n",
       "      <th>usd_goal_real</th>\n",
       "    </tr>\n",
       "  </thead>\n",
       "  <tbody>\n",
       "    <tr>\n",
       "      <th>0</th>\n",
       "      <td>1000002330</td>\n",
       "      <td>The Songs of Adelaide &amp; Abullah</td>\n",
       "      <td>Poetry</td>\n",
       "      <td>Publishing</td>\n",
       "      <td>GBP</td>\n",
       "      <td>2015-10-09</td>\n",
       "      <td>1000.0</td>\n",
       "      <td>2015-08-11 12:12:28</td>\n",
       "      <td>0.00</td>\n",
       "      <td>failed</td>\n",
       "      <td>0</td>\n",
       "      <td>GB</td>\n",
       "      <td>0.00</td>\n",
       "      <td>0.00</td>\n",
       "      <td>1533.95</td>\n",
       "    </tr>\n",
       "    <tr>\n",
       "      <th>1</th>\n",
       "      <td>1000003930</td>\n",
       "      <td>Greeting From Earth: ZGAC Arts Capsule For ET</td>\n",
       "      <td>Narrative Film</td>\n",
       "      <td>Film &amp; Video</td>\n",
       "      <td>USD</td>\n",
       "      <td>2017-11-01</td>\n",
       "      <td>30000.0</td>\n",
       "      <td>2017-09-02 04:43:57</td>\n",
       "      <td>2421.00</td>\n",
       "      <td>failed</td>\n",
       "      <td>15</td>\n",
       "      <td>US</td>\n",
       "      <td>100.00</td>\n",
       "      <td>2421.00</td>\n",
       "      <td>30000.00</td>\n",
       "    </tr>\n",
       "    <tr>\n",
       "      <th>2</th>\n",
       "      <td>1000004038</td>\n",
       "      <td>Where is Hank?</td>\n",
       "      <td>Narrative Film</td>\n",
       "      <td>Film &amp; Video</td>\n",
       "      <td>USD</td>\n",
       "      <td>2013-02-26</td>\n",
       "      <td>45000.0</td>\n",
       "      <td>2013-01-12 00:20:50</td>\n",
       "      <td>220.00</td>\n",
       "      <td>failed</td>\n",
       "      <td>3</td>\n",
       "      <td>US</td>\n",
       "      <td>220.00</td>\n",
       "      <td>220.00</td>\n",
       "      <td>45000.00</td>\n",
       "    </tr>\n",
       "    <tr>\n",
       "      <th>3</th>\n",
       "      <td>1000007540</td>\n",
       "      <td>ToshiCapital Rekordz Needs Help to Complete Album</td>\n",
       "      <td>Music</td>\n",
       "      <td>Music</td>\n",
       "      <td>USD</td>\n",
       "      <td>2012-04-16</td>\n",
       "      <td>5000.0</td>\n",
       "      <td>2012-03-17 03:24:11</td>\n",
       "      <td>1.00</td>\n",
       "      <td>failed</td>\n",
       "      <td>1</td>\n",
       "      <td>US</td>\n",
       "      <td>1.00</td>\n",
       "      <td>1.00</td>\n",
       "      <td>5000.00</td>\n",
       "    </tr>\n",
       "    <tr>\n",
       "      <th>4</th>\n",
       "      <td>1000011046</td>\n",
       "      <td>Community Film Project: The Art of Neighborhoo...</td>\n",
       "      <td>Film &amp; Video</td>\n",
       "      <td>Film &amp; Video</td>\n",
       "      <td>USD</td>\n",
       "      <td>2015-08-29</td>\n",
       "      <td>19500.0</td>\n",
       "      <td>2015-07-04 08:35:03</td>\n",
       "      <td>1283.00</td>\n",
       "      <td>canceled</td>\n",
       "      <td>14</td>\n",
       "      <td>US</td>\n",
       "      <td>1283.00</td>\n",
       "      <td>1283.00</td>\n",
       "      <td>19500.00</td>\n",
       "    </tr>\n",
       "    <tr>\n",
       "      <th>5</th>\n",
       "      <td>1000014025</td>\n",
       "      <td>Monarch Espresso Bar</td>\n",
       "      <td>Restaurants</td>\n",
       "      <td>Food</td>\n",
       "      <td>USD</td>\n",
       "      <td>2016-04-01</td>\n",
       "      <td>50000.0</td>\n",
       "      <td>2016-02-26 13:38:27</td>\n",
       "      <td>52375.00</td>\n",
       "      <td>successful</td>\n",
       "      <td>224</td>\n",
       "      <td>US</td>\n",
       "      <td>52375.00</td>\n",
       "      <td>52375.00</td>\n",
       "      <td>50000.00</td>\n",
       "    </tr>\n",
       "    <tr>\n",
       "      <th>6</th>\n",
       "      <td>1000023410</td>\n",
       "      <td>Support Solar Roasted Coffee &amp; Green Energy!  ...</td>\n",
       "      <td>Food</td>\n",
       "      <td>Food</td>\n",
       "      <td>USD</td>\n",
       "      <td>2014-12-21</td>\n",
       "      <td>1000.0</td>\n",
       "      <td>2014-12-01 18:30:44</td>\n",
       "      <td>1205.00</td>\n",
       "      <td>successful</td>\n",
       "      <td>16</td>\n",
       "      <td>US</td>\n",
       "      <td>1205.00</td>\n",
       "      <td>1205.00</td>\n",
       "      <td>1000.00</td>\n",
       "    </tr>\n",
       "    <tr>\n",
       "      <th>7</th>\n",
       "      <td>1000030581</td>\n",
       "      <td>Chaser Strips. Our Strips make Shots their B*tch!</td>\n",
       "      <td>Drinks</td>\n",
       "      <td>Food</td>\n",
       "      <td>USD</td>\n",
       "      <td>2016-03-17</td>\n",
       "      <td>25000.0</td>\n",
       "      <td>2016-02-01 20:05:12</td>\n",
       "      <td>453.00</td>\n",
       "      <td>failed</td>\n",
       "      <td>40</td>\n",
       "      <td>US</td>\n",
       "      <td>453.00</td>\n",
       "      <td>453.00</td>\n",
       "      <td>25000.00</td>\n",
       "    </tr>\n",
       "    <tr>\n",
       "      <th>8</th>\n",
       "      <td>1000034518</td>\n",
       "      <td>SPIN - Premium Retractable In-Ear Headphones w...</td>\n",
       "      <td>Product Design</td>\n",
       "      <td>Design</td>\n",
       "      <td>USD</td>\n",
       "      <td>2014-05-29</td>\n",
       "      <td>125000.0</td>\n",
       "      <td>2014-04-24 18:14:43</td>\n",
       "      <td>8233.00</td>\n",
       "      <td>canceled</td>\n",
       "      <td>58</td>\n",
       "      <td>US</td>\n",
       "      <td>8233.00</td>\n",
       "      <td>8233.00</td>\n",
       "      <td>125000.00</td>\n",
       "    </tr>\n",
       "    <tr>\n",
       "      <th>9</th>\n",
       "      <td>100004195</td>\n",
       "      <td>STUDIO IN THE SKY - A Documentary Feature Film...</td>\n",
       "      <td>Documentary</td>\n",
       "      <td>Film &amp; Video</td>\n",
       "      <td>USD</td>\n",
       "      <td>2014-08-10</td>\n",
       "      <td>65000.0</td>\n",
       "      <td>2014-07-11 21:55:48</td>\n",
       "      <td>6240.57</td>\n",
       "      <td>canceled</td>\n",
       "      <td>43</td>\n",
       "      <td>US</td>\n",
       "      <td>6240.57</td>\n",
       "      <td>6240.57</td>\n",
       "      <td>65000.00</td>\n",
       "    </tr>\n",
       "    <tr>\n",
       "      <th>10</th>\n",
       "      <td>100004721</td>\n",
       "      <td>Of Jesus and Madmen</td>\n",
       "      <td>Nonfiction</td>\n",
       "      <td>Publishing</td>\n",
       "      <td>CAD</td>\n",
       "      <td>2013-10-09</td>\n",
       "      <td>2500.0</td>\n",
       "      <td>2013-09-09 18:19:37</td>\n",
       "      <td>0.00</td>\n",
       "      <td>failed</td>\n",
       "      <td>0</td>\n",
       "      <td>CA</td>\n",
       "      <td>0.00</td>\n",
       "      <td>0.00</td>\n",
       "      <td>2406.39</td>\n",
       "    </tr>\n",
       "    <tr>\n",
       "      <th>11</th>\n",
       "      <td>100005484</td>\n",
       "      <td>Lisa Lim New CD!</td>\n",
       "      <td>Indie Rock</td>\n",
       "      <td>Music</td>\n",
       "      <td>USD</td>\n",
       "      <td>2013-04-08</td>\n",
       "      <td>12500.0</td>\n",
       "      <td>2013-03-09 06:42:58</td>\n",
       "      <td>12700.00</td>\n",
       "      <td>successful</td>\n",
       "      <td>100</td>\n",
       "      <td>US</td>\n",
       "      <td>12700.00</td>\n",
       "      <td>12700.00</td>\n",
       "      <td>12500.00</td>\n",
       "    </tr>\n",
       "    <tr>\n",
       "      <th>12</th>\n",
       "      <td>1000055792</td>\n",
       "      <td>The Cottage Market</td>\n",
       "      <td>Crafts</td>\n",
       "      <td>Crafts</td>\n",
       "      <td>USD</td>\n",
       "      <td>2014-10-02</td>\n",
       "      <td>5000.0</td>\n",
       "      <td>2014-09-02 17:11:50</td>\n",
       "      <td>0.00</td>\n",
       "      <td>failed</td>\n",
       "      <td>0</td>\n",
       "      <td>US</td>\n",
       "      <td>0.00</td>\n",
       "      <td>0.00</td>\n",
       "      <td>5000.00</td>\n",
       "    </tr>\n",
       "    <tr>\n",
       "      <th>13</th>\n",
       "      <td>1000056157</td>\n",
       "      <td>G-Spot Place for Gamers to connect with eachot...</td>\n",
       "      <td>Games</td>\n",
       "      <td>Games</td>\n",
       "      <td>USD</td>\n",
       "      <td>2016-03-25</td>\n",
       "      <td>200000.0</td>\n",
       "      <td>2016-02-09 23:01:12</td>\n",
       "      <td>0.00</td>\n",
       "      <td>failed</td>\n",
       "      <td>0</td>\n",
       "      <td>US</td>\n",
       "      <td>0.00</td>\n",
       "      <td>0.00</td>\n",
       "      <td>200000.00</td>\n",
       "    </tr>\n",
       "    <tr>\n",
       "      <th>14</th>\n",
       "      <td>1000057089</td>\n",
       "      <td>Tombstone: Old West tabletop game and miniatur...</td>\n",
       "      <td>Tabletop Games</td>\n",
       "      <td>Games</td>\n",
       "      <td>GBP</td>\n",
       "      <td>2017-05-03</td>\n",
       "      <td>5000.0</td>\n",
       "      <td>2017-04-05 19:44:18</td>\n",
       "      <td>94175.00</td>\n",
       "      <td>successful</td>\n",
       "      <td>761</td>\n",
       "      <td>GB</td>\n",
       "      <td>57763.78</td>\n",
       "      <td>121857.33</td>\n",
       "      <td>6469.73</td>\n",
       "    </tr>\n",
       "    <tr>\n",
       "      <th>15</th>\n",
       "      <td>1000064368</td>\n",
       "      <td>Survival Rings</td>\n",
       "      <td>Design</td>\n",
       "      <td>Design</td>\n",
       "      <td>USD</td>\n",
       "      <td>2015-02-28</td>\n",
       "      <td>2500.0</td>\n",
       "      <td>2015-01-29 02:10:53</td>\n",
       "      <td>664.00</td>\n",
       "      <td>failed</td>\n",
       "      <td>11</td>\n",
       "      <td>US</td>\n",
       "      <td>664.00</td>\n",
       "      <td>664.00</td>\n",
       "      <td>2500.00</td>\n",
       "    </tr>\n",
       "    <tr>\n",
       "      <th>16</th>\n",
       "      <td>1000064918</td>\n",
       "      <td>The Beard</td>\n",
       "      <td>Comic Books</td>\n",
       "      <td>Comics</td>\n",
       "      <td>USD</td>\n",
       "      <td>2014-11-08</td>\n",
       "      <td>1500.0</td>\n",
       "      <td>2014-10-09 22:27:52</td>\n",
       "      <td>395.00</td>\n",
       "      <td>failed</td>\n",
       "      <td>16</td>\n",
       "      <td>US</td>\n",
       "      <td>395.00</td>\n",
       "      <td>395.00</td>\n",
       "      <td>1500.00</td>\n",
       "    </tr>\n",
       "    <tr>\n",
       "      <th>17</th>\n",
       "      <td>1000068480</td>\n",
       "      <td>Notes From London: Above &amp; Below</td>\n",
       "      <td>Art Books</td>\n",
       "      <td>Publishing</td>\n",
       "      <td>USD</td>\n",
       "      <td>2015-05-10</td>\n",
       "      <td>3000.0</td>\n",
       "      <td>2015-04-10 21:20:54</td>\n",
       "      <td>789.00</td>\n",
       "      <td>failed</td>\n",
       "      <td>20</td>\n",
       "      <td>US</td>\n",
       "      <td>789.00</td>\n",
       "      <td>789.00</td>\n",
       "      <td>3000.00</td>\n",
       "    </tr>\n",
       "    <tr>\n",
       "      <th>18</th>\n",
       "      <td>1000070642</td>\n",
       "      <td>Mike Corey's Darkness &amp; Light Album</td>\n",
       "      <td>Music</td>\n",
       "      <td>Music</td>\n",
       "      <td>USD</td>\n",
       "      <td>2012-08-17</td>\n",
       "      <td>250.0</td>\n",
       "      <td>2012-08-02 14:11:32</td>\n",
       "      <td>250.00</td>\n",
       "      <td>successful</td>\n",
       "      <td>7</td>\n",
       "      <td>US</td>\n",
       "      <td>250.00</td>\n",
       "      <td>250.00</td>\n",
       "      <td>250.00</td>\n",
       "    </tr>\n",
       "    <tr>\n",
       "      <th>19</th>\n",
       "      <td>1000071625</td>\n",
       "      <td>Boco Tea</td>\n",
       "      <td>Food</td>\n",
       "      <td>Food</td>\n",
       "      <td>USD</td>\n",
       "      <td>2012-06-02</td>\n",
       "      <td>5000.0</td>\n",
       "      <td>2012-05-03 17:24:32</td>\n",
       "      <td>1781.00</td>\n",
       "      <td>failed</td>\n",
       "      <td>40</td>\n",
       "      <td>US</td>\n",
       "      <td>1781.00</td>\n",
       "      <td>1781.00</td>\n",
       "      <td>5000.00</td>\n",
       "    </tr>\n",
       "    <tr>\n",
       "      <th>20</th>\n",
       "      <td>1000072011</td>\n",
       "      <td>CMUK. Shoes: Take on Life Feet First.</td>\n",
       "      <td>Fashion</td>\n",
       "      <td>Fashion</td>\n",
       "      <td>USD</td>\n",
       "      <td>2013-12-30</td>\n",
       "      <td>20000.0</td>\n",
       "      <td>2013-11-25 07:06:11</td>\n",
       "      <td>34268.00</td>\n",
       "      <td>successful</td>\n",
       "      <td>624</td>\n",
       "      <td>US</td>\n",
       "      <td>34268.00</td>\n",
       "      <td>34268.00</td>\n",
       "      <td>20000.00</td>\n",
       "    </tr>\n",
       "    <tr>\n",
       "      <th>21</th>\n",
       "      <td>1000081649</td>\n",
       "      <td>MikeyJ clothing brand fundraiser</td>\n",
       "      <td>Childrenswear</td>\n",
       "      <td>Fashion</td>\n",
       "      <td>AUD</td>\n",
       "      <td>2017-09-07</td>\n",
       "      <td>2500.0</td>\n",
       "      <td>2017-08-08 01:20:20</td>\n",
       "      <td>1.00</td>\n",
       "      <td>failed</td>\n",
       "      <td>1</td>\n",
       "      <td>AU</td>\n",
       "      <td>0.00</td>\n",
       "      <td>0.81</td>\n",
       "      <td>2026.10</td>\n",
       "    </tr>\n",
       "    <tr>\n",
       "      <th>22</th>\n",
       "      <td>1000082254</td>\n",
       "      <td>Alice in Wonderland in G Minor</td>\n",
       "      <td>Theater</td>\n",
       "      <td>Theater</td>\n",
       "      <td>USD</td>\n",
       "      <td>2014-06-15</td>\n",
       "      <td>3500.0</td>\n",
       "      <td>2014-05-16 10:10:38</td>\n",
       "      <td>650.00</td>\n",
       "      <td>failed</td>\n",
       "      <td>12</td>\n",
       "      <td>US</td>\n",
       "      <td>650.00</td>\n",
       "      <td>650.00</td>\n",
       "      <td>3500.00</td>\n",
       "    </tr>\n",
       "    <tr>\n",
       "      <th>23</th>\n",
       "      <td>1000087442</td>\n",
       "      <td>Mountain brew: A quest for alcohol sustainability</td>\n",
       "      <td>Drinks</td>\n",
       "      <td>Food</td>\n",
       "      <td>NOK</td>\n",
       "      <td>2015-02-25</td>\n",
       "      <td>500.0</td>\n",
       "      <td>2015-01-26 19:17:33</td>\n",
       "      <td>48.00</td>\n",
       "      <td>failed</td>\n",
       "      <td>3</td>\n",
       "      <td>NO</td>\n",
       "      <td>6.18</td>\n",
       "      <td>6.29</td>\n",
       "      <td>65.55</td>\n",
       "    </tr>\n",
       "    <tr>\n",
       "      <th>24</th>\n",
       "      <td>1000091520</td>\n",
       "      <td>The Book Zoo - A Mini-Comic</td>\n",
       "      <td>Comics</td>\n",
       "      <td>Comics</td>\n",
       "      <td>USD</td>\n",
       "      <td>2014-11-12</td>\n",
       "      <td>175.0</td>\n",
       "      <td>2014-10-23 17:15:50</td>\n",
       "      <td>701.66</td>\n",
       "      <td>successful</td>\n",
       "      <td>66</td>\n",
       "      <td>US</td>\n",
       "      <td>701.66</td>\n",
       "      <td>701.66</td>\n",
       "      <td>175.00</td>\n",
       "    </tr>\n",
       "    <tr>\n",
       "      <th>25</th>\n",
       "      <td>1000102741</td>\n",
       "      <td>Matt Cavenaugh &amp; Jenny Powers make their 1st a...</td>\n",
       "      <td>Music</td>\n",
       "      <td>Music</td>\n",
       "      <td>USD</td>\n",
       "      <td>2011-01-06</td>\n",
       "      <td>10000.0</td>\n",
       "      <td>2010-12-07 23:16:50</td>\n",
       "      <td>15827.00</td>\n",
       "      <td>successful</td>\n",
       "      <td>147</td>\n",
       "      <td>US</td>\n",
       "      <td>15827.00</td>\n",
       "      <td>15827.00</td>\n",
       "      <td>10000.00</td>\n",
       "    </tr>\n",
       "    <tr>\n",
       "      <th>26</th>\n",
       "      <td>1000103948</td>\n",
       "      <td>Superhero Teddy Bear</td>\n",
       "      <td>DIY</td>\n",
       "      <td>Crafts</td>\n",
       "      <td>GBP</td>\n",
       "      <td>2016-01-05</td>\n",
       "      <td>12000.0</td>\n",
       "      <td>2015-12-06 20:09:06</td>\n",
       "      <td>0.00</td>\n",
       "      <td>failed</td>\n",
       "      <td>0</td>\n",
       "      <td>GB</td>\n",
       "      <td>0.00</td>\n",
       "      <td>0.00</td>\n",
       "      <td>17489.65</td>\n",
       "    </tr>\n",
       "    <tr>\n",
       "      <th>27</th>\n",
       "      <td>1000104688</td>\n",
       "      <td>Permaculture Skills</td>\n",
       "      <td>Webseries</td>\n",
       "      <td>Film &amp; Video</td>\n",
       "      <td>CAD</td>\n",
       "      <td>2014-12-14</td>\n",
       "      <td>17757.0</td>\n",
       "      <td>2014-11-14 18:02:00</td>\n",
       "      <td>48905.00</td>\n",
       "      <td>successful</td>\n",
       "      <td>571</td>\n",
       "      <td>CA</td>\n",
       "      <td>43203.25</td>\n",
       "      <td>42174.03</td>\n",
       "      <td>15313.04</td>\n",
       "    </tr>\n",
       "    <tr>\n",
       "      <th>28</th>\n",
       "      <td>1000104953</td>\n",
       "      <td>Rebel Army Origins: The Heroic Story Of Major ...</td>\n",
       "      <td>Comics</td>\n",
       "      <td>Comics</td>\n",
       "      <td>GBP</td>\n",
       "      <td>2016-01-28</td>\n",
       "      <td>100.0</td>\n",
       "      <td>2015-12-29 16:59:29</td>\n",
       "      <td>112.38</td>\n",
       "      <td>successful</td>\n",
       "      <td>27</td>\n",
       "      <td>GB</td>\n",
       "      <td>167.70</td>\n",
       "      <td>160.60</td>\n",
       "      <td>142.91</td>\n",
       "    </tr>\n",
       "    <tr>\n",
       "      <th>29</th>\n",
       "      <td>100011318</td>\n",
       "      <td>My Moon - Animated Short Film</td>\n",
       "      <td>Animation</td>\n",
       "      <td>Film &amp; Video</td>\n",
       "      <td>USD</td>\n",
       "      <td>2017-05-03</td>\n",
       "      <td>50000.0</td>\n",
       "      <td>2017-04-03 17:11:33</td>\n",
       "      <td>57577.31</td>\n",
       "      <td>successful</td>\n",
       "      <td>840</td>\n",
       "      <td>US</td>\n",
       "      <td>10120.00</td>\n",
       "      <td>57577.31</td>\n",
       "      <td>50000.00</td>\n",
       "    </tr>\n",
       "    <tr>\n",
       "      <th>...</th>\n",
       "      <td>...</td>\n",
       "      <td>...</td>\n",
       "      <td>...</td>\n",
       "      <td>...</td>\n",
       "      <td>...</td>\n",
       "      <td>...</td>\n",
       "      <td>...</td>\n",
       "      <td>...</td>\n",
       "      <td>...</td>\n",
       "      <td>...</td>\n",
       "      <td>...</td>\n",
       "      <td>...</td>\n",
       "      <td>...</td>\n",
       "      <td>...</td>\n",
       "      <td>...</td>\n",
       "    </tr>\n",
       "    <tr>\n",
       "      <th>378631</th>\n",
       "      <td>999832803</td>\n",
       "      <td>MONSTROCARDS- A Creative Drawing Game of Horri...</td>\n",
       "      <td>Playing Cards</td>\n",
       "      <td>Games</td>\n",
       "      <td>USD</td>\n",
       "      <td>2014-10-03</td>\n",
       "      <td>10000.0</td>\n",
       "      <td>2014-09-03 19:53:50</td>\n",
       "      <td>13861.50</td>\n",
       "      <td>successful</td>\n",
       "      <td>413</td>\n",
       "      <td>US</td>\n",
       "      <td>13861.50</td>\n",
       "      <td>13861.50</td>\n",
       "      <td>10000.00</td>\n",
       "    </tr>\n",
       "    <tr>\n",
       "      <th>378632</th>\n",
       "      <td>99984851</td>\n",
       "      <td>\"Loreto\"</td>\n",
       "      <td>Comedy</td>\n",
       "      <td>Film &amp; Video</td>\n",
       "      <td>USD</td>\n",
       "      <td>2014-06-05</td>\n",
       "      <td>12000.0</td>\n",
       "      <td>2014-05-06 23:50:34</td>\n",
       "      <td>0.00</td>\n",
       "      <td>failed</td>\n",
       "      <td>0</td>\n",
       "      <td>US</td>\n",
       "      <td>0.00</td>\n",
       "      <td>0.00</td>\n",
       "      <td>12000.00</td>\n",
       "    </tr>\n",
       "    <tr>\n",
       "      <th>378633</th>\n",
       "      <td>999865831</td>\n",
       "      <td>STATE OF G - Men's Blazer Jacket &amp; Women's Car...</td>\n",
       "      <td>Apparel</td>\n",
       "      <td>Fashion</td>\n",
       "      <td>USD</td>\n",
       "      <td>2014-12-13</td>\n",
       "      <td>25000.0</td>\n",
       "      <td>2014-11-13 17:16:17</td>\n",
       "      <td>11643.00</td>\n",
       "      <td>failed</td>\n",
       "      <td>97</td>\n",
       "      <td>US</td>\n",
       "      <td>11643.00</td>\n",
       "      <td>11643.00</td>\n",
       "      <td>25000.00</td>\n",
       "    </tr>\n",
       "    <tr>\n",
       "      <th>378634</th>\n",
       "      <td>999867839</td>\n",
       "      <td>Transcaucasia</td>\n",
       "      <td>Photography</td>\n",
       "      <td>Photography</td>\n",
       "      <td>USD</td>\n",
       "      <td>2011-01-08</td>\n",
       "      <td>4000.0</td>\n",
       "      <td>2010-11-08 02:43:59</td>\n",
       "      <td>3531.00</td>\n",
       "      <td>failed</td>\n",
       "      <td>37</td>\n",
       "      <td>US</td>\n",
       "      <td>3531.00</td>\n",
       "      <td>3531.00</td>\n",
       "      <td>4000.00</td>\n",
       "    </tr>\n",
       "    <tr>\n",
       "      <th>378635</th>\n",
       "      <td>99987261</td>\n",
       "      <td>You're Not Cis, You Just Think You Are: My Enb...</td>\n",
       "      <td>Nonfiction</td>\n",
       "      <td>Publishing</td>\n",
       "      <td>USD</td>\n",
       "      <td>2015-09-24</td>\n",
       "      <td>800.0</td>\n",
       "      <td>2015-08-25 22:37:14</td>\n",
       "      <td>70.00</td>\n",
       "      <td>failed</td>\n",
       "      <td>5</td>\n",
       "      <td>US</td>\n",
       "      <td>70.00</td>\n",
       "      <td>70.00</td>\n",
       "      <td>800.00</td>\n",
       "    </tr>\n",
       "    <tr>\n",
       "      <th>378636</th>\n",
       "      <td>999877902</td>\n",
       "      <td>Little Saturday's Debut Album</td>\n",
       "      <td>Country &amp; Folk</td>\n",
       "      <td>Music</td>\n",
       "      <td>CAD</td>\n",
       "      <td>2014-12-17</td>\n",
       "      <td>5000.0</td>\n",
       "      <td>2014-11-17 17:50:12</td>\n",
       "      <td>5435.00</td>\n",
       "      <td>successful</td>\n",
       "      <td>78</td>\n",
       "      <td>CA</td>\n",
       "      <td>4814.88</td>\n",
       "      <td>4686.96</td>\n",
       "      <td>4311.83</td>\n",
       "    </tr>\n",
       "    <tr>\n",
       "      <th>378637</th>\n",
       "      <td>999878813</td>\n",
       "      <td>Ways to Look at the Moon</td>\n",
       "      <td>Shorts</td>\n",
       "      <td>Film &amp; Video</td>\n",
       "      <td>USD</td>\n",
       "      <td>2017-10-13</td>\n",
       "      <td>10000.0</td>\n",
       "      <td>2017-08-29 06:57:28</td>\n",
       "      <td>10245.00</td>\n",
       "      <td>successful</td>\n",
       "      <td>123</td>\n",
       "      <td>US</td>\n",
       "      <td>145.00</td>\n",
       "      <td>10245.00</td>\n",
       "      <td>10000.00</td>\n",
       "    </tr>\n",
       "    <tr>\n",
       "      <th>378638</th>\n",
       "      <td>999880710</td>\n",
       "      <td>Terminal Uniqueness</td>\n",
       "      <td>Nonfiction</td>\n",
       "      <td>Publishing</td>\n",
       "      <td>USD</td>\n",
       "      <td>2014-08-15</td>\n",
       "      <td>5000.0</td>\n",
       "      <td>2014-07-15 02:10:39</td>\n",
       "      <td>18.00</td>\n",
       "      <td>failed</td>\n",
       "      <td>5</td>\n",
       "      <td>US</td>\n",
       "      <td>18.00</td>\n",
       "      <td>18.00</td>\n",
       "      <td>5000.00</td>\n",
       "    </tr>\n",
       "    <tr>\n",
       "      <th>378639</th>\n",
       "      <td>999884445</td>\n",
       "      <td>Superette Tea - Boldly Caffeinated Loose Leaf Tea</td>\n",
       "      <td>Drinks</td>\n",
       "      <td>Food</td>\n",
       "      <td>USD</td>\n",
       "      <td>2015-12-03</td>\n",
       "      <td>5000.0</td>\n",
       "      <td>2015-11-03 13:04:14</td>\n",
       "      <td>5579.00</td>\n",
       "      <td>successful</td>\n",
       "      <td>103</td>\n",
       "      <td>US</td>\n",
       "      <td>5579.00</td>\n",
       "      <td>5579.00</td>\n",
       "      <td>5000.00</td>\n",
       "    </tr>\n",
       "    <tr>\n",
       "      <th>378640</th>\n",
       "      <td>999893629</td>\n",
       "      <td>Ciridian Helix (Canceled)</td>\n",
       "      <td>Fiction</td>\n",
       "      <td>Publishing</td>\n",
       "      <td>USD</td>\n",
       "      <td>2014-09-11</td>\n",
       "      <td>1000.0</td>\n",
       "      <td>2014-08-08 21:49:31</td>\n",
       "      <td>100.00</td>\n",
       "      <td>canceled</td>\n",
       "      <td>2</td>\n",
       "      <td>US</td>\n",
       "      <td>100.00</td>\n",
       "      <td>100.00</td>\n",
       "      <td>1000.00</td>\n",
       "    </tr>\n",
       "    <tr>\n",
       "      <th>378641</th>\n",
       "      <td>99991751</td>\n",
       "      <td>Here is the oasis for the youngest in the world.</td>\n",
       "      <td>Product Design</td>\n",
       "      <td>Design</td>\n",
       "      <td>CHF</td>\n",
       "      <td>2015-09-04</td>\n",
       "      <td>80000.0</td>\n",
       "      <td>2015-07-06 18:00:47</td>\n",
       "      <td>0.00</td>\n",
       "      <td>failed</td>\n",
       "      <td>0</td>\n",
       "      <td>CH</td>\n",
       "      <td>0.00</td>\n",
       "      <td>0.00</td>\n",
       "      <td>82207.27</td>\n",
       "    </tr>\n",
       "    <tr>\n",
       "      <th>378642</th>\n",
       "      <td>999929142</td>\n",
       "      <td>ÉPOUVANTAILS : 28mm Figurines de jeux pour KIN...</td>\n",
       "      <td>Tabletop Games</td>\n",
       "      <td>Games</td>\n",
       "      <td>EUR</td>\n",
       "      <td>2017-10-31</td>\n",
       "      <td>1000.0</td>\n",
       "      <td>2017-10-04 11:26:44</td>\n",
       "      <td>1246.00</td>\n",
       "      <td>successful</td>\n",
       "      <td>35</td>\n",
       "      <td>FR</td>\n",
       "      <td>66.72</td>\n",
       "      <td>1452.47</td>\n",
       "      <td>1165.70</td>\n",
       "    </tr>\n",
       "    <tr>\n",
       "      <th>378643</th>\n",
       "      <td>999931480</td>\n",
       "      <td>Google Glass Shield (Canceled)</td>\n",
       "      <td>3D Printing</td>\n",
       "      <td>Technology</td>\n",
       "      <td>USD</td>\n",
       "      <td>2014-05-26</td>\n",
       "      <td>6500.0</td>\n",
       "      <td>2014-05-05 20:22:45</td>\n",
       "      <td>0.00</td>\n",
       "      <td>canceled</td>\n",
       "      <td>0</td>\n",
       "      <td>US</td>\n",
       "      <td>0.00</td>\n",
       "      <td>0.00</td>\n",
       "      <td>6500.00</td>\n",
       "    </tr>\n",
       "    <tr>\n",
       "      <th>378644</th>\n",
       "      <td>999934908</td>\n",
       "      <td>The Manual Bar Blade</td>\n",
       "      <td>Product Design</td>\n",
       "      <td>Design</td>\n",
       "      <td>USD</td>\n",
       "      <td>2015-12-15</td>\n",
       "      <td>3500.0</td>\n",
       "      <td>2015-11-23 07:33:14</td>\n",
       "      <td>6169.00</td>\n",
       "      <td>successful</td>\n",
       "      <td>120</td>\n",
       "      <td>US</td>\n",
       "      <td>6169.00</td>\n",
       "      <td>6169.00</td>\n",
       "      <td>3500.00</td>\n",
       "    </tr>\n",
       "    <tr>\n",
       "      <th>378645</th>\n",
       "      <td>999941823</td>\n",
       "      <td>The Chronicles of Erinoth - A Graphic Novel</td>\n",
       "      <td>Comics</td>\n",
       "      <td>Comics</td>\n",
       "      <td>GBP</td>\n",
       "      <td>2013-10-10</td>\n",
       "      <td>16000.0</td>\n",
       "      <td>2013-09-10 22:45:26</td>\n",
       "      <td>2738.00</td>\n",
       "      <td>failed</td>\n",
       "      <td>38</td>\n",
       "      <td>GB</td>\n",
       "      <td>4281.15</td>\n",
       "      <td>4374.99</td>\n",
       "      <td>25566.05</td>\n",
       "    </tr>\n",
       "    <tr>\n",
       "      <th>378646</th>\n",
       "      <td>999943841</td>\n",
       "      <td>The Dog Coffee Book</td>\n",
       "      <td>Children's Books</td>\n",
       "      <td>Publishing</td>\n",
       "      <td>USD</td>\n",
       "      <td>2013-11-30</td>\n",
       "      <td>950.0</td>\n",
       "      <td>2013-10-18 21:35:04</td>\n",
       "      <td>1732.02</td>\n",
       "      <td>successful</td>\n",
       "      <td>31</td>\n",
       "      <td>US</td>\n",
       "      <td>1732.02</td>\n",
       "      <td>1732.02</td>\n",
       "      <td>950.00</td>\n",
       "    </tr>\n",
       "    <tr>\n",
       "      <th>378647</th>\n",
       "      <td>999950812</td>\n",
       "      <td>The Cease is Increase</td>\n",
       "      <td>Nonfiction</td>\n",
       "      <td>Publishing</td>\n",
       "      <td>USD</td>\n",
       "      <td>2012-09-14</td>\n",
       "      <td>4999.0</td>\n",
       "      <td>2012-08-15 17:11:00</td>\n",
       "      <td>980.00</td>\n",
       "      <td>failed</td>\n",
       "      <td>16</td>\n",
       "      <td>US</td>\n",
       "      <td>980.00</td>\n",
       "      <td>980.00</td>\n",
       "      <td>4999.00</td>\n",
       "    </tr>\n",
       "    <tr>\n",
       "      <th>378648</th>\n",
       "      <td>999955533</td>\n",
       "      <td>Cards and Chit Network Season 2! (Canceled)</td>\n",
       "      <td>Tabletop Games</td>\n",
       "      <td>Games</td>\n",
       "      <td>USD</td>\n",
       "      <td>2016-02-23</td>\n",
       "      <td>500.0</td>\n",
       "      <td>2016-01-24 16:03:27</td>\n",
       "      <td>121.00</td>\n",
       "      <td>canceled</td>\n",
       "      <td>5</td>\n",
       "      <td>US</td>\n",
       "      <td>121.00</td>\n",
       "      <td>121.00</td>\n",
       "      <td>500.00</td>\n",
       "    </tr>\n",
       "    <tr>\n",
       "      <th>378649</th>\n",
       "      <td>999963618</td>\n",
       "      <td>Colorado International Activism Film Festival</td>\n",
       "      <td>Narrative Film</td>\n",
       "      <td>Film &amp; Video</td>\n",
       "      <td>USD</td>\n",
       "      <td>2017-04-09</td>\n",
       "      <td>500.0</td>\n",
       "      <td>2017-02-08 02:28:44</td>\n",
       "      <td>135.00</td>\n",
       "      <td>failed</td>\n",
       "      <td>6</td>\n",
       "      <td>US</td>\n",
       "      <td>45.00</td>\n",
       "      <td>135.00</td>\n",
       "      <td>500.00</td>\n",
       "    </tr>\n",
       "    <tr>\n",
       "      <th>378650</th>\n",
       "      <td>99996661</td>\n",
       "      <td>Date Seat - Boston iOS App</td>\n",
       "      <td>Apps</td>\n",
       "      <td>Technology</td>\n",
       "      <td>USD</td>\n",
       "      <td>2016-09-05</td>\n",
       "      <td>6000.0</td>\n",
       "      <td>2016-07-29 15:36:29</td>\n",
       "      <td>0.00</td>\n",
       "      <td>failed</td>\n",
       "      <td>0</td>\n",
       "      <td>US</td>\n",
       "      <td>0.00</td>\n",
       "      <td>0.00</td>\n",
       "      <td>6000.00</td>\n",
       "    </tr>\n",
       "    <tr>\n",
       "      <th>378651</th>\n",
       "      <td>999969812</td>\n",
       "      <td>AT THE BEACH</td>\n",
       "      <td>Classical Music</td>\n",
       "      <td>Music</td>\n",
       "      <td>CAD</td>\n",
       "      <td>2014-03-22</td>\n",
       "      <td>5000.0</td>\n",
       "      <td>2014-02-20 01:00:16</td>\n",
       "      <td>5501.00</td>\n",
       "      <td>successful</td>\n",
       "      <td>78</td>\n",
       "      <td>CA</td>\n",
       "      <td>5019.92</td>\n",
       "      <td>4983.69</td>\n",
       "      <td>4529.81</td>\n",
       "    </tr>\n",
       "    <tr>\n",
       "      <th>378652</th>\n",
       "      <td>999971898</td>\n",
       "      <td>Beach Wrestling Documentary</td>\n",
       "      <td>Documentary</td>\n",
       "      <td>Film &amp; Video</td>\n",
       "      <td>NOK</td>\n",
       "      <td>2015-04-28</td>\n",
       "      <td>20000.0</td>\n",
       "      <td>2015-03-29 21:30:33</td>\n",
       "      <td>21500.00</td>\n",
       "      <td>successful</td>\n",
       "      <td>36</td>\n",
       "      <td>NO</td>\n",
       "      <td>2698.97</td>\n",
       "      <td>2875.83</td>\n",
       "      <td>2675.19</td>\n",
       "    </tr>\n",
       "    <tr>\n",
       "      <th>378653</th>\n",
       "      <td>999972264</td>\n",
       "      <td>Islanda</td>\n",
       "      <td>Documentary</td>\n",
       "      <td>Film &amp; Video</td>\n",
       "      <td>USD</td>\n",
       "      <td>2012-03-16</td>\n",
       "      <td>1700.0</td>\n",
       "      <td>2012-02-15 04:31:10</td>\n",
       "      <td>25.00</td>\n",
       "      <td>failed</td>\n",
       "      <td>1</td>\n",
       "      <td>US</td>\n",
       "      <td>25.00</td>\n",
       "      <td>25.00</td>\n",
       "      <td>1700.00</td>\n",
       "    </tr>\n",
       "    <tr>\n",
       "      <th>378654</th>\n",
       "      <td>999975836</td>\n",
       "      <td>Homemade fresh dog food, Cleveland OH</td>\n",
       "      <td>Small Batch</td>\n",
       "      <td>Food</td>\n",
       "      <td>USD</td>\n",
       "      <td>2017-04-19</td>\n",
       "      <td>6500.0</td>\n",
       "      <td>2017-03-20 22:08:22</td>\n",
       "      <td>154.00</td>\n",
       "      <td>failed</td>\n",
       "      <td>4</td>\n",
       "      <td>US</td>\n",
       "      <td>0.00</td>\n",
       "      <td>154.00</td>\n",
       "      <td>6500.00</td>\n",
       "    </tr>\n",
       "    <tr>\n",
       "      <th>378655</th>\n",
       "      <td>999976312</td>\n",
       "      <td>Angela's Poetry (Canceled)</td>\n",
       "      <td>Poetry</td>\n",
       "      <td>Publishing</td>\n",
       "      <td>CAD</td>\n",
       "      <td>2014-09-20</td>\n",
       "      <td>5500.0</td>\n",
       "      <td>2014-08-06 03:46:07</td>\n",
       "      <td>0.00</td>\n",
       "      <td>canceled</td>\n",
       "      <td>0</td>\n",
       "      <td>CA</td>\n",
       "      <td>0.00</td>\n",
       "      <td>0.00</td>\n",
       "      <td>4949.60</td>\n",
       "    </tr>\n",
       "    <tr>\n",
       "      <th>378656</th>\n",
       "      <td>999976400</td>\n",
       "      <td>ChknTruk Nationwide Charity Drive 2014 (Canceled)</td>\n",
       "      <td>Documentary</td>\n",
       "      <td>Film &amp; Video</td>\n",
       "      <td>USD</td>\n",
       "      <td>2014-10-17</td>\n",
       "      <td>50000.0</td>\n",
       "      <td>2014-09-17 02:35:30</td>\n",
       "      <td>25.00</td>\n",
       "      <td>canceled</td>\n",
       "      <td>1</td>\n",
       "      <td>US</td>\n",
       "      <td>25.00</td>\n",
       "      <td>25.00</td>\n",
       "      <td>50000.00</td>\n",
       "    </tr>\n",
       "    <tr>\n",
       "      <th>378657</th>\n",
       "      <td>999977640</td>\n",
       "      <td>The Tribe</td>\n",
       "      <td>Narrative Film</td>\n",
       "      <td>Film &amp; Video</td>\n",
       "      <td>USD</td>\n",
       "      <td>2011-07-19</td>\n",
       "      <td>1500.0</td>\n",
       "      <td>2011-06-22 03:35:14</td>\n",
       "      <td>155.00</td>\n",
       "      <td>failed</td>\n",
       "      <td>5</td>\n",
       "      <td>US</td>\n",
       "      <td>155.00</td>\n",
       "      <td>155.00</td>\n",
       "      <td>1500.00</td>\n",
       "    </tr>\n",
       "    <tr>\n",
       "      <th>378658</th>\n",
       "      <td>999986353</td>\n",
       "      <td>Walls of Remedy- New lesbian Romantic Comedy f...</td>\n",
       "      <td>Narrative Film</td>\n",
       "      <td>Film &amp; Video</td>\n",
       "      <td>USD</td>\n",
       "      <td>2010-08-16</td>\n",
       "      <td>15000.0</td>\n",
       "      <td>2010-07-01 19:40:30</td>\n",
       "      <td>20.00</td>\n",
       "      <td>failed</td>\n",
       "      <td>1</td>\n",
       "      <td>US</td>\n",
       "      <td>20.00</td>\n",
       "      <td>20.00</td>\n",
       "      <td>15000.00</td>\n",
       "    </tr>\n",
       "    <tr>\n",
       "      <th>378659</th>\n",
       "      <td>999987933</td>\n",
       "      <td>BioDefense Education Kit</td>\n",
       "      <td>Technology</td>\n",
       "      <td>Technology</td>\n",
       "      <td>USD</td>\n",
       "      <td>2016-02-13</td>\n",
       "      <td>15000.0</td>\n",
       "      <td>2016-01-13 18:13:53</td>\n",
       "      <td>200.00</td>\n",
       "      <td>failed</td>\n",
       "      <td>6</td>\n",
       "      <td>US</td>\n",
       "      <td>200.00</td>\n",
       "      <td>200.00</td>\n",
       "      <td>15000.00</td>\n",
       "    </tr>\n",
       "    <tr>\n",
       "      <th>378660</th>\n",
       "      <td>999988282</td>\n",
       "      <td>Nou Renmen Ayiti!  We Love Haiti!</td>\n",
       "      <td>Performance Art</td>\n",
       "      <td>Art</td>\n",
       "      <td>USD</td>\n",
       "      <td>2011-08-16</td>\n",
       "      <td>2000.0</td>\n",
       "      <td>2011-07-19 09:07:47</td>\n",
       "      <td>524.00</td>\n",
       "      <td>failed</td>\n",
       "      <td>17</td>\n",
       "      <td>US</td>\n",
       "      <td>524.00</td>\n",
       "      <td>524.00</td>\n",
       "      <td>2000.00</td>\n",
       "    </tr>\n",
       "  </tbody>\n",
       "</table>\n",
       "<p>378661 rows × 15 columns</p>\n",
       "</div>"
      ],
      "text/plain": [
       "                ID                                               name  \\\n",
       "0       1000002330                    The Songs of Adelaide & Abullah   \n",
       "1       1000003930      Greeting From Earth: ZGAC Arts Capsule For ET   \n",
       "2       1000004038                                     Where is Hank?   \n",
       "3       1000007540  ToshiCapital Rekordz Needs Help to Complete Album   \n",
       "4       1000011046  Community Film Project: The Art of Neighborhoo...   \n",
       "5       1000014025                               Monarch Espresso Bar   \n",
       "6       1000023410  Support Solar Roasted Coffee & Green Energy!  ...   \n",
       "7       1000030581  Chaser Strips. Our Strips make Shots their B*tch!   \n",
       "8       1000034518  SPIN - Premium Retractable In-Ear Headphones w...   \n",
       "9        100004195  STUDIO IN THE SKY - A Documentary Feature Film...   \n",
       "10       100004721                                Of Jesus and Madmen   \n",
       "11       100005484                                   Lisa Lim New CD!   \n",
       "12      1000055792                                 The Cottage Market   \n",
       "13      1000056157  G-Spot Place for Gamers to connect with eachot...   \n",
       "14      1000057089  Tombstone: Old West tabletop game and miniatur...   \n",
       "15      1000064368                                     Survival Rings   \n",
       "16      1000064918                                          The Beard   \n",
       "17      1000068480                   Notes From London: Above & Below   \n",
       "18      1000070642                Mike Corey's Darkness & Light Album   \n",
       "19      1000071625                                           Boco Tea   \n",
       "20      1000072011              CMUK. Shoes: Take on Life Feet First.   \n",
       "21      1000081649                   MikeyJ clothing brand fundraiser   \n",
       "22      1000082254                     Alice in Wonderland in G Minor   \n",
       "23      1000087442  Mountain brew: A quest for alcohol sustainability   \n",
       "24      1000091520                        The Book Zoo - A Mini-Comic   \n",
       "25      1000102741  Matt Cavenaugh & Jenny Powers make their 1st a...   \n",
       "26      1000103948                               Superhero Teddy Bear   \n",
       "27      1000104688                                Permaculture Skills   \n",
       "28      1000104953  Rebel Army Origins: The Heroic Story Of Major ...   \n",
       "29       100011318                      My Moon - Animated Short Film   \n",
       "...            ...                                                ...   \n",
       "378631   999832803  MONSTROCARDS- A Creative Drawing Game of Horri...   \n",
       "378632    99984851                                           \"Loreto\"   \n",
       "378633   999865831  STATE OF G - Men's Blazer Jacket & Women's Car...   \n",
       "378634   999867839                                      Transcaucasia   \n",
       "378635    99987261  You're Not Cis, You Just Think You Are: My Enb...   \n",
       "378636   999877902                      Little Saturday's Debut Album   \n",
       "378637   999878813                           Ways to Look at the Moon   \n",
       "378638   999880710                                Terminal Uniqueness   \n",
       "378639   999884445  Superette Tea - Boldly Caffeinated Loose Leaf Tea   \n",
       "378640   999893629                          Ciridian Helix (Canceled)   \n",
       "378641    99991751   Here is the oasis for the youngest in the world.   \n",
       "378642   999929142  ÉPOUVANTAILS : 28mm Figurines de jeux pour KIN...   \n",
       "378643   999931480                     Google Glass Shield (Canceled)   \n",
       "378644   999934908                               The Manual Bar Blade   \n",
       "378645   999941823        The Chronicles of Erinoth - A Graphic Novel   \n",
       "378646   999943841                                The Dog Coffee Book   \n",
       "378647   999950812                              The Cease is Increase   \n",
       "378648   999955533        Cards and Chit Network Season 2! (Canceled)   \n",
       "378649   999963618      Colorado International Activism Film Festival   \n",
       "378650    99996661                         Date Seat - Boston iOS App   \n",
       "378651   999969812                                       AT THE BEACH   \n",
       "378652   999971898                        Beach Wrestling Documentary   \n",
       "378653   999972264                                            Islanda   \n",
       "378654   999975836              Homemade fresh dog food, Cleveland OH   \n",
       "378655   999976312                         Angela's Poetry (Canceled)   \n",
       "378656   999976400  ChknTruk Nationwide Charity Drive 2014 (Canceled)   \n",
       "378657   999977640                                          The Tribe   \n",
       "378658   999986353  Walls of Remedy- New lesbian Romantic Comedy f...   \n",
       "378659   999987933                           BioDefense Education Kit   \n",
       "378660   999988282                  Nou Renmen Ayiti!  We Love Haiti!   \n",
       "\n",
       "                category main_category currency    deadline      goal  \\\n",
       "0                 Poetry    Publishing      GBP  2015-10-09    1000.0   \n",
       "1         Narrative Film  Film & Video      USD  2017-11-01   30000.0   \n",
       "2         Narrative Film  Film & Video      USD  2013-02-26   45000.0   \n",
       "3                  Music         Music      USD  2012-04-16    5000.0   \n",
       "4           Film & Video  Film & Video      USD  2015-08-29   19500.0   \n",
       "5            Restaurants          Food      USD  2016-04-01   50000.0   \n",
       "6                   Food          Food      USD  2014-12-21    1000.0   \n",
       "7                 Drinks          Food      USD  2016-03-17   25000.0   \n",
       "8         Product Design        Design      USD  2014-05-29  125000.0   \n",
       "9            Documentary  Film & Video      USD  2014-08-10   65000.0   \n",
       "10            Nonfiction    Publishing      CAD  2013-10-09    2500.0   \n",
       "11            Indie Rock         Music      USD  2013-04-08   12500.0   \n",
       "12                Crafts        Crafts      USD  2014-10-02    5000.0   \n",
       "13                 Games         Games      USD  2016-03-25  200000.0   \n",
       "14        Tabletop Games         Games      GBP  2017-05-03    5000.0   \n",
       "15                Design        Design      USD  2015-02-28    2500.0   \n",
       "16           Comic Books        Comics      USD  2014-11-08    1500.0   \n",
       "17             Art Books    Publishing      USD  2015-05-10    3000.0   \n",
       "18                 Music         Music      USD  2012-08-17     250.0   \n",
       "19                  Food          Food      USD  2012-06-02    5000.0   \n",
       "20               Fashion       Fashion      USD  2013-12-30   20000.0   \n",
       "21         Childrenswear       Fashion      AUD  2017-09-07    2500.0   \n",
       "22               Theater       Theater      USD  2014-06-15    3500.0   \n",
       "23                Drinks          Food      NOK  2015-02-25     500.0   \n",
       "24                Comics        Comics      USD  2014-11-12     175.0   \n",
       "25                 Music         Music      USD  2011-01-06   10000.0   \n",
       "26                   DIY        Crafts      GBP  2016-01-05   12000.0   \n",
       "27             Webseries  Film & Video      CAD  2014-12-14   17757.0   \n",
       "28                Comics        Comics      GBP  2016-01-28     100.0   \n",
       "29             Animation  Film & Video      USD  2017-05-03   50000.0   \n",
       "...                  ...           ...      ...         ...       ...   \n",
       "378631     Playing Cards         Games      USD  2014-10-03   10000.0   \n",
       "378632            Comedy  Film & Video      USD  2014-06-05   12000.0   \n",
       "378633           Apparel       Fashion      USD  2014-12-13   25000.0   \n",
       "378634       Photography   Photography      USD  2011-01-08    4000.0   \n",
       "378635        Nonfiction    Publishing      USD  2015-09-24     800.0   \n",
       "378636    Country & Folk         Music      CAD  2014-12-17    5000.0   \n",
       "378637            Shorts  Film & Video      USD  2017-10-13   10000.0   \n",
       "378638        Nonfiction    Publishing      USD  2014-08-15    5000.0   \n",
       "378639            Drinks          Food      USD  2015-12-03    5000.0   \n",
       "378640           Fiction    Publishing      USD  2014-09-11    1000.0   \n",
       "378641    Product Design        Design      CHF  2015-09-04   80000.0   \n",
       "378642    Tabletop Games         Games      EUR  2017-10-31    1000.0   \n",
       "378643       3D Printing    Technology      USD  2014-05-26    6500.0   \n",
       "378644    Product Design        Design      USD  2015-12-15    3500.0   \n",
       "378645            Comics        Comics      GBP  2013-10-10   16000.0   \n",
       "378646  Children's Books    Publishing      USD  2013-11-30     950.0   \n",
       "378647        Nonfiction    Publishing      USD  2012-09-14    4999.0   \n",
       "378648    Tabletop Games         Games      USD  2016-02-23     500.0   \n",
       "378649    Narrative Film  Film & Video      USD  2017-04-09     500.0   \n",
       "378650              Apps    Technology      USD  2016-09-05    6000.0   \n",
       "378651   Classical Music         Music      CAD  2014-03-22    5000.0   \n",
       "378652       Documentary  Film & Video      NOK  2015-04-28   20000.0   \n",
       "378653       Documentary  Film & Video      USD  2012-03-16    1700.0   \n",
       "378654       Small Batch          Food      USD  2017-04-19    6500.0   \n",
       "378655            Poetry    Publishing      CAD  2014-09-20    5500.0   \n",
       "378656       Documentary  Film & Video      USD  2014-10-17   50000.0   \n",
       "378657    Narrative Film  Film & Video      USD  2011-07-19    1500.0   \n",
       "378658    Narrative Film  Film & Video      USD  2010-08-16   15000.0   \n",
       "378659        Technology    Technology      USD  2016-02-13   15000.0   \n",
       "378660   Performance Art           Art      USD  2011-08-16    2000.0   \n",
       "\n",
       "                   launched   pledged       state  backers country  \\\n",
       "0       2015-08-11 12:12:28      0.00      failed        0      GB   \n",
       "1       2017-09-02 04:43:57   2421.00      failed       15      US   \n",
       "2       2013-01-12 00:20:50    220.00      failed        3      US   \n",
       "3       2012-03-17 03:24:11      1.00      failed        1      US   \n",
       "4       2015-07-04 08:35:03   1283.00    canceled       14      US   \n",
       "5       2016-02-26 13:38:27  52375.00  successful      224      US   \n",
       "6       2014-12-01 18:30:44   1205.00  successful       16      US   \n",
       "7       2016-02-01 20:05:12    453.00      failed       40      US   \n",
       "8       2014-04-24 18:14:43   8233.00    canceled       58      US   \n",
       "9       2014-07-11 21:55:48   6240.57    canceled       43      US   \n",
       "10      2013-09-09 18:19:37      0.00      failed        0      CA   \n",
       "11      2013-03-09 06:42:58  12700.00  successful      100      US   \n",
       "12      2014-09-02 17:11:50      0.00      failed        0      US   \n",
       "13      2016-02-09 23:01:12      0.00      failed        0      US   \n",
       "14      2017-04-05 19:44:18  94175.00  successful      761      GB   \n",
       "15      2015-01-29 02:10:53    664.00      failed       11      US   \n",
       "16      2014-10-09 22:27:52    395.00      failed       16      US   \n",
       "17      2015-04-10 21:20:54    789.00      failed       20      US   \n",
       "18      2012-08-02 14:11:32    250.00  successful        7      US   \n",
       "19      2012-05-03 17:24:32   1781.00      failed       40      US   \n",
       "20      2013-11-25 07:06:11  34268.00  successful      624      US   \n",
       "21      2017-08-08 01:20:20      1.00      failed        1      AU   \n",
       "22      2014-05-16 10:10:38    650.00      failed       12      US   \n",
       "23      2015-01-26 19:17:33     48.00      failed        3      NO   \n",
       "24      2014-10-23 17:15:50    701.66  successful       66      US   \n",
       "25      2010-12-07 23:16:50  15827.00  successful      147      US   \n",
       "26      2015-12-06 20:09:06      0.00      failed        0      GB   \n",
       "27      2014-11-14 18:02:00  48905.00  successful      571      CA   \n",
       "28      2015-12-29 16:59:29    112.38  successful       27      GB   \n",
       "29      2017-04-03 17:11:33  57577.31  successful      840      US   \n",
       "...                     ...       ...         ...      ...     ...   \n",
       "378631  2014-09-03 19:53:50  13861.50  successful      413      US   \n",
       "378632  2014-05-06 23:50:34      0.00      failed        0      US   \n",
       "378633  2014-11-13 17:16:17  11643.00      failed       97      US   \n",
       "378634  2010-11-08 02:43:59   3531.00      failed       37      US   \n",
       "378635  2015-08-25 22:37:14     70.00      failed        5      US   \n",
       "378636  2014-11-17 17:50:12   5435.00  successful       78      CA   \n",
       "378637  2017-08-29 06:57:28  10245.00  successful      123      US   \n",
       "378638  2014-07-15 02:10:39     18.00      failed        5      US   \n",
       "378639  2015-11-03 13:04:14   5579.00  successful      103      US   \n",
       "378640  2014-08-08 21:49:31    100.00    canceled        2      US   \n",
       "378641  2015-07-06 18:00:47      0.00      failed        0      CH   \n",
       "378642  2017-10-04 11:26:44   1246.00  successful       35      FR   \n",
       "378643  2014-05-05 20:22:45      0.00    canceled        0      US   \n",
       "378644  2015-11-23 07:33:14   6169.00  successful      120      US   \n",
       "378645  2013-09-10 22:45:26   2738.00      failed       38      GB   \n",
       "378646  2013-10-18 21:35:04   1732.02  successful       31      US   \n",
       "378647  2012-08-15 17:11:00    980.00      failed       16      US   \n",
       "378648  2016-01-24 16:03:27    121.00    canceled        5      US   \n",
       "378649  2017-02-08 02:28:44    135.00      failed        6      US   \n",
       "378650  2016-07-29 15:36:29      0.00      failed        0      US   \n",
       "378651  2014-02-20 01:00:16   5501.00  successful       78      CA   \n",
       "378652  2015-03-29 21:30:33  21500.00  successful       36      NO   \n",
       "378653  2012-02-15 04:31:10     25.00      failed        1      US   \n",
       "378654  2017-03-20 22:08:22    154.00      failed        4      US   \n",
       "378655  2014-08-06 03:46:07      0.00    canceled        0      CA   \n",
       "378656  2014-09-17 02:35:30     25.00    canceled        1      US   \n",
       "378657  2011-06-22 03:35:14    155.00      failed        5      US   \n",
       "378658  2010-07-01 19:40:30     20.00      failed        1      US   \n",
       "378659  2016-01-13 18:13:53    200.00      failed        6      US   \n",
       "378660  2011-07-19 09:07:47    524.00      failed       17      US   \n",
       "\n",
       "        usd pledged  usd_pledged_real  usd_goal_real  \n",
       "0              0.00              0.00        1533.95  \n",
       "1            100.00           2421.00       30000.00  \n",
       "2            220.00            220.00       45000.00  \n",
       "3              1.00              1.00        5000.00  \n",
       "4           1283.00           1283.00       19500.00  \n",
       "5          52375.00          52375.00       50000.00  \n",
       "6           1205.00           1205.00        1000.00  \n",
       "7            453.00            453.00       25000.00  \n",
       "8           8233.00           8233.00      125000.00  \n",
       "9           6240.57           6240.57       65000.00  \n",
       "10             0.00              0.00        2406.39  \n",
       "11         12700.00          12700.00       12500.00  \n",
       "12             0.00              0.00        5000.00  \n",
       "13             0.00              0.00      200000.00  \n",
       "14         57763.78         121857.33        6469.73  \n",
       "15           664.00            664.00        2500.00  \n",
       "16           395.00            395.00        1500.00  \n",
       "17           789.00            789.00        3000.00  \n",
       "18           250.00            250.00         250.00  \n",
       "19          1781.00           1781.00        5000.00  \n",
       "20         34268.00          34268.00       20000.00  \n",
       "21             0.00              0.81        2026.10  \n",
       "22           650.00            650.00        3500.00  \n",
       "23             6.18              6.29          65.55  \n",
       "24           701.66            701.66         175.00  \n",
       "25         15827.00          15827.00       10000.00  \n",
       "26             0.00              0.00       17489.65  \n",
       "27         43203.25          42174.03       15313.04  \n",
       "28           167.70            160.60         142.91  \n",
       "29         10120.00          57577.31       50000.00  \n",
       "...             ...               ...            ...  \n",
       "378631     13861.50          13861.50       10000.00  \n",
       "378632         0.00              0.00       12000.00  \n",
       "378633     11643.00          11643.00       25000.00  \n",
       "378634      3531.00           3531.00        4000.00  \n",
       "378635        70.00             70.00         800.00  \n",
       "378636      4814.88           4686.96        4311.83  \n",
       "378637       145.00          10245.00       10000.00  \n",
       "378638        18.00             18.00        5000.00  \n",
       "378639      5579.00           5579.00        5000.00  \n",
       "378640       100.00            100.00        1000.00  \n",
       "378641         0.00              0.00       82207.27  \n",
       "378642        66.72           1452.47        1165.70  \n",
       "378643         0.00              0.00        6500.00  \n",
       "378644      6169.00           6169.00        3500.00  \n",
       "378645      4281.15           4374.99       25566.05  \n",
       "378646      1732.02           1732.02         950.00  \n",
       "378647       980.00            980.00        4999.00  \n",
       "378648       121.00            121.00         500.00  \n",
       "378649        45.00            135.00         500.00  \n",
       "378650         0.00              0.00        6000.00  \n",
       "378651      5019.92           4983.69        4529.81  \n",
       "378652      2698.97           2875.83        2675.19  \n",
       "378653        25.00             25.00        1700.00  \n",
       "378654         0.00            154.00        6500.00  \n",
       "378655         0.00              0.00        4949.60  \n",
       "378656        25.00             25.00       50000.00  \n",
       "378657       155.00            155.00        1500.00  \n",
       "378658        20.00             20.00       15000.00  \n",
       "378659       200.00            200.00       15000.00  \n",
       "378660       524.00            524.00        2000.00  \n",
       "\n",
       "[378661 rows x 15 columns]"
      ]
     },
     "execution_count": 4,
     "metadata": {},
     "output_type": "execute_result"
    }
   ],
   "source": [
    "ks"
   ]
  },
  {
   "cell_type": "code",
   "execution_count": 5,
   "metadata": {},
   "outputs": [],
   "source": [
    "import matplotlib.pyplot as plt"
   ]
  },
  {
   "cell_type": "code",
   "execution_count": 6,
   "metadata": {},
   "outputs": [
    {
     "data": {
      "text/plain": [
       "<matplotlib.axes._subplots.AxesSubplot at 0x1e75985bcc0>"
      ]
     },
     "execution_count": 6,
     "metadata": {},
     "output_type": "execute_result"
    },
    {
     "data": {
      "image/png": "[encoded data removed]",
      "text/plain": [
       "<matplotlib.figure.Figure at 0x1e757144cc0>"
      ]
     },
     "metadata": {},
     "output_type": "display_data"
    }
   ],
   "source": [
    "ks.groupby('state')['ID'].nunique().plot(kind='bar')"
   ]
  },
  {
   "cell_type": "code",
   "execution_count": 7,
   "metadata": {},
   "outputs": [
    {
     "data": {
      "text/plain": [
       "<matplotlib.axes._subplots.AxesSubplot at 0x1e759931940>"
      ]
     },
     "execution_count": 7,
     "metadata": {},
     "output_type": "execute_result"
    },
    {
     "data": {
      "image/png": "[encoded data removed]",
      "text/plain": [
       "<matplotlib.figure.Figure at 0x1e7598847f0>"
      ]
     },
     "metadata": {},
     "output_type": "display_data"
    }
   ],
   "source": [
    "ks.groupby('currency')['ID'].nunique().plot(kind='bar')"
   ]
  },
  {
   "cell_type": "code",
   "execution_count": 8,
   "metadata": {},
   "outputs": [
    {
     "data": {
      "text/plain": [
       "<matplotlib.axes._subplots.AxesSubplot at 0x1e759c57e10>"
      ]
     },
     "execution_count": 8,
     "metadata": {},
     "output_type": "execute_result"
    },
    {
     "data": {
      "image/png": "[encoded data removed]",
      "text/plain": [
       "<matplotlib.figure.Figure at 0x1e7599949b0>"
      ]
     },
     "metadata": {},
     "output_type": "display_data"
    }
   ],
   "source": [
    "ks.groupby('country')['ID'].nunique().plot(kind='bar')"
   ]
  },
  {
   "cell_type": "code",
   "execution_count": 9,
   "metadata": {},
   "outputs": [
    {
     "data": {
      "text/plain": [
       "<matplotlib.axes._subplots.AxesSubplot at 0x1e759cff7b8>"
      ]
     },
     "execution_count": 9,
     "metadata": {},
     "output_type": "execute_result"
    },
    {
     "data": {
      "image/png": "[encoded data removed]",
      "text/plain": [
       "<matplotlib.figure.Figure at 0x1e759d09518>"
      ]
     },
     "metadata": {},
     "output_type": "display_data"
    }
   ],
   "source": [
    "ks.groupby('main_category')['ID'].nunique().plot(kind='bar')"
   ]
  },
  {
   "cell_type": "markdown",
   "metadata": {},
   "source": [
    "## 데이터\n",
    "\n",
    "이 데이터는 kickstarter에서 등록되어 있는 상품들의 등록 ID, 상품 이름, 카테고리, 기한, 목표 모금액, 모금액, 통화, 후원자 수, 나라, 성공하였는지 여부에 대한 dataset이다. \n",
    "\n",
    "main_category : 각 상품이 어디에 속하는지를 총 15개의 종류로 크게 나눈 카테고리이다.\n",
    "category : 각 상품이 정확이 어떠한 종류로 분류될 수 있는지 총 159개로 나눈 카테고리이다.\n",
    "goal : 상품을 등록한 개인이나  기업이 프로젝트를 시작하기 위해서 총 필요로 하는 초기 자금이다. \n",
    "pledged : 실제 상품이 받은 지원 기금의 총 합이다. 만약 이 값이 goal보다 크면 state가 succesful가 된다.\n",
    "backer : 상품에 지원한 총 인원이다.\n",
    "currency : 어느 통화를 이용하여 지원을 받는 지이다.\n",
    "country : 상품을 등록한 개인이나 기업의 속해 있는 국가이다.\n",
    "\n",
    "URL : https://www.kaggle.com/kemical/kickstarter-projects"
   ]
  },
  {
   "cell_type": "markdown",
   "metadata": {},
   "source": [
    "## 전처리"
   ]
  },
  {
   "cell_type": "code",
   "execution_count": 10,
   "metadata": {},
   "outputs": [],
   "source": [
    "ks=ks[ks.state!='canceled']\n",
    "ks=ks[ks.state!='live']\n",
    "ks=ks[ks.state!='suspended']\n",
    "ks=ks[ks.state!='undefined']  "
   ]
  },
  {
   "cell_type": "markdown",
   "metadata": {},
   "source": [
    "state에서 successful인지 failed인지만 구분하기 위해 나머지 값들을 가지고 있는 instance들을 제거하여 주었다."
   ]
  },
  {
   "cell_type": "code",
   "execution_count": 11,
   "metadata": {
    "scrolled": true
   },
   "outputs": [
    {
     "data": {
      "text/plain": [
       "<matplotlib.axes._subplots.AxesSubplot at 0x1e759d87e80>"
      ]
     },
     "execution_count": 11,
     "metadata": {},
     "output_type": "execute_result"
    },
    {
     "data": {
      "image/png": "[encoded data removed]",
      "text/plain": [
       "<matplotlib.figure.Figure at 0x1e759cff2b0>"
      ]
     },
     "metadata": {},
     "output_type": "display_data"
    }
   ],
   "source": [
    "ks.groupby('state')['ID'].nunique().plot(kind='bar')"
   ]
  },
  {
   "cell_type": "code",
   "execution_count": 12,
   "metadata": {},
   "outputs": [],
   "source": [
    "ks=ks.drop(columns=['name','ID']) \n",
    "#instance당 하나인 name과 id 데이터를 없애 주었다."
   ]
  },
  {
   "cell_type": "code",
   "execution_count": 13,
   "metadata": {},
   "outputs": [],
   "source": [
    "ks=ks.drop(columns=['usd pledged','usd_pledged_real']) \n",
    "#그 다음 usd pledged, pledge, usd_pledged_real은 유사한 값들을 가지기 때문에 pledge  제외 제거 "
   ]
  },
  {
   "cell_type": "code",
   "execution_count": 14,
   "metadata": {},
   "outputs": [],
   "source": [
    "ks=ks.drop(columns=['usd_goal_real']) \n",
    "#goal과  usd_goal_real도 유사한 값을 가진다고 판단하여 제거하여 주었다."
   ]
  },
  {
   "cell_type": "code",
   "execution_count": 15,
   "metadata": {},
   "outputs": [
    {
     "data": {
      "text/plain": [
       "category         331675\n",
       "main_category    331675\n",
       "currency         331675\n",
       "deadline         331675\n",
       "goal             331675\n",
       "launched         331675\n",
       "pledged          331675\n",
       "state            331675\n",
       "backers          331675\n",
       "country          331675\n",
       "dtype: int64"
      ]
     },
     "execution_count": 15,
     "metadata": {},
     "output_type": "execute_result"
    }
   ],
   "source": [
    "ks.count() \n",
    "#별도의 missing value가 존재하지 않는지 확인. 존재하지 않는다."
   ]
  },
  {
   "cell_type": "markdown",
   "metadata": {},
   "source": [
    "데이터 중 launched와 deadline은 날짜보다는 그 기간이 더 중요한 의미를 가질 것이라고 생각하여, deadline을 삭제하고 기간으로 변환시켰다. 또한 goal과 pledge는 유사한 양의 데이터이므로 그 값보다 goal:pledge의 비율이 더 의미 있다고 생각해 pledge를 비율로 변환 시켰다."
   ]
  },
  {
   "cell_type": "code",
   "execution_count": 16,
   "metadata": {},
   "outputs": [
    {
     "data": {
      "text/plain": [
       "category          object\n",
       "main_category     object\n",
       "currency          object\n",
       "deadline          object\n",
       "goal             float64\n",
       "launched          object\n",
       "pledged          float64\n",
       "state             object\n",
       "backers            int64\n",
       "country           object\n",
       "dtype: object"
      ]
     },
     "execution_count": 16,
     "metadata": {},
     "output_type": "execute_result"
    }
   ],
   "source": [
    "ks.dtypes #attribute들이 어떤 타입을 갖는지 확인하였다."
   ]
  },
  {
   "cell_type": "code",
   "execution_count": 17,
   "metadata": {
    "scrolled": true
   },
   "outputs": [],
   "source": [
    "ks.pledged=ks.pledged/ks.goal\n",
    "ks = ks.rename(columns={'pledged':'pledged_rate'})"
   ]
  },
  {
   "cell_type": "code",
   "execution_count": 18,
   "metadata": {},
   "outputs": [],
   "source": [
    "ks['deadline'] = pd.to_datetime(ks['deadline']) - pd.to_datetime(ks['launched']) \n",
    "ks['launched'] = pd.to_datetime(ks['launched']) \n",
    "ks = ks.rename(columns={'deadline':'term'})"
   ]
  },
  {
   "cell_type": "code",
   "execution_count": 19,
   "metadata": {},
   "outputs": [],
   "source": [
    "import numpy as np"
   ]
  },
  {
   "cell_type": "code",
   "execution_count": 20,
   "metadata": {
    "scrolled": true
   },
   "outputs": [],
   "source": [
    "ks[['term']]=ks[['term']].apply(np.float64)\n",
    "ks[['launched']]=ks[['launched']].apply(np.float64) \n",
    "#timedelta 를 사용하기 위해 float type로 변환해 주었다."
   ]
  },
  {
   "cell_type": "markdown",
   "metadata": {},
   "source": [
    "datatype가 object인 attribute들을 ordinal encoder을 통해서 float 타입으로 바꾸는 전처리를 해주었다."
   ]
  },
  {
   "cell_type": "code",
   "execution_count": 21,
   "metadata": {},
   "outputs": [],
   "source": [
    "from sklearn.preprocessing import OrdinalEncoder"
   ]
  },
  {
   "cell_type": "code",
   "execution_count": 22,
   "metadata": {},
   "outputs": [],
   "source": [
    "ord_enc = OrdinalEncoder()"
   ]
  },
  {
   "cell_type": "code",
   "execution_count": 23,
   "metadata": {},
   "outputs": [
    {
     "data": {
      "text/plain": [
       "OrdinalEncoder(categories='auto', dtype=<class 'numpy.float64'>)"
      ]
     },
     "execution_count": 23,
     "metadata": {},
     "output_type": "execute_result"
    }
   ],
   "source": [
    "ord_enc.fit(ks[['main_category', 'category','currency','state','country']])"
   ]
  },
  {
   "cell_type": "code",
   "execution_count": 24,
   "metadata": {},
   "outputs": [],
   "source": [
    "ks[['main_category', 'category','currency','state','country']]=ord_enc.transform(ks[['main_category', 'category','currency','state','country']])"
   ]
  },
  {
   "cell_type": "markdown",
   "metadata": {},
   "source": [
    "전체 data set을 train set, validation set, test set으로 구분하여 분류하여 주었다."
   ]
  },
  {
   "cell_type": "code",
   "execution_count": 25,
   "metadata": {},
   "outputs": [],
   "source": [
    "train = ks.sample(frac=0.8)\n",
    "valid = train.sample(frac=0.25)"
   ]
  },
  {
   "cell_type": "code",
   "execution_count": 26,
   "metadata": {},
   "outputs": [],
   "source": [
    "test = ks.drop(index=train.index)"
   ]
  },
  {
   "cell_type": "code",
   "execution_count": 27,
   "metadata": {},
   "outputs": [],
   "source": [
    "train_x=train.drop(columns='state')\n",
    "train_y=train[['state']]\n",
    "valid_x=valid.drop(columns='state')\n",
    "valid_y=valid[['state']]\n",
    "test_x=test.drop(columns='state')\n",
    "test_y=test[['state']]"
   ]
  },
  {
   "cell_type": "markdown",
   "metadata": {},
   "source": [
    "## Decision Tree\n",
    "\n",
    "가장 먼저 linear model의 대표적 예인 Decision Tree에 대해서 model을 만들어 보기로 하였다."
   ]
  },
  {
   "cell_type": "code",
   "execution_count": 28,
   "metadata": {},
   "outputs": [],
   "source": [
    "from sklearn.tree import DecisionTreeClassifier"
   ]
  },
  {
   "cell_type": "code",
   "execution_count": 29,
   "metadata": {},
   "outputs": [],
   "source": [
    "DTmodel = DecisionTreeClassifier()"
   ]
  },
  {
   "cell_type": "code",
   "execution_count": 30,
   "metadata": {},
   "outputs": [
    {
     "data": {
      "text/plain": [
       "DecisionTreeClassifier(class_weight=None, criterion='gini', max_depth=None,\n",
       "            max_features=None, max_leaf_nodes=None,\n",
       "            min_impurity_decrease=0.0, min_impurity_split=None,\n",
       "            min_samples_leaf=1, min_samples_split=2,\n",
       "            min_weight_fraction_leaf=0.0, presort=False, random_state=None,\n",
       "            splitter='best')"
      ]
     },
     "execution_count": 30,
     "metadata": {},
     "output_type": "execute_result"
    }
   ],
   "source": [
    "DTmodel.fit(train_x,train_y)"
   ]
  },
  {
   "cell_type": "code",
   "execution_count": 31,
   "metadata": {},
   "outputs": [
    {
     "data": {
      "text/plain": [
       "0.9999397000075375"
      ]
     },
     "execution_count": 31,
     "metadata": {},
     "output_type": "execute_result"
    }
   ],
   "source": [
    "DTmodel.score(test_x,test_y)"
   ]
  },
  {
   "cell_type": "markdown",
   "metadata": {},
   "source": [
    "결과값이 1에 가깝게 정확하다는 것을 볼 수 있다. 이는  state value를 두 가지로 축약하였고, state 값은 pledged_rate 값이 1 이상이라는 의미와 동일하므로 decision tree에서는 pledged_rate 값이 1이상이면 state가 successful이라고 판단하면 되기 때문에 이렇게 결과값이 도출 되었다.\n",
    "\n",
    "실제로 pledged rate는 도출해야 하는 값이기 때문에 state를 예측하는데 사용하는 것은 좋지 않다고 판단하여 제거하여 주었다. 이 attribute은 classification model로서 state를 예측하는 대신에 pledged rate에 대한 regression model을 만드는 데 더 적합한 데이터로 보인다."
   ]
  },
  {
   "cell_type": "code",
   "execution_count": 32,
   "metadata": {
    "scrolled": false
   },
   "outputs": [],
   "source": [
    "train_x=train_x.drop(columns='pledged_rate')\n",
    "valid_x=valid_x.drop(columns='pledged_rate')\n",
    "test_x=test_x.drop(columns='pledged_rate')"
   ]
  },
  {
   "cell_type": "code",
   "execution_count": 33,
   "metadata": {},
   "outputs": [
    {
     "data": {
      "text/plain": [
       "DecisionTreeClassifier(class_weight=None, criterion='gini', max_depth=None,\n",
       "            max_features=None, max_leaf_nodes=None,\n",
       "            min_impurity_decrease=0.0, min_impurity_split=None,\n",
       "            min_samples_leaf=1, min_samples_split=2,\n",
       "            min_weight_fraction_leaf=0.0, presort=False, random_state=None,\n",
       "            splitter='best')"
      ]
     },
     "execution_count": 33,
     "metadata": {},
     "output_type": "execute_result"
    }
   ],
   "source": [
    "DTmodel.fit(train_x,train_y)"
   ]
  },
  {
   "cell_type": "code",
   "execution_count": 34,
   "metadata": {},
   "outputs": [
    {
     "data": {
      "text/plain": [
       "1.0"
      ]
     },
     "execution_count": 34,
     "metadata": {},
     "output_type": "execute_result"
    }
   ],
   "source": [
    "DTmodel.score(valid_x,valid_y)"
   ]
  },
  {
   "cell_type": "code",
   "execution_count": 35,
   "metadata": {
    "scrolled": false
   },
   "outputs": [
    {
     "data": {
      "text/plain": [
       "0.8974749378156328"
      ]
     },
     "execution_count": 35,
     "metadata": {},
     "output_type": "execute_result"
    }
   ],
   "source": [
    "DTmodel.score(test_x,test_y)"
   ]
  },
  {
   "cell_type": "markdown",
   "metadata": {},
   "source": [
    "pledged와 비슷한 이유로 backers 또한 투자한 인원 이기 때문에 실제로 예측해야하는 값이고, 주어지는 값이 아니기 때문에 attribute에서 이를 제외하였다."
   ]
  },
  {
   "cell_type": "code",
   "execution_count": 36,
   "metadata": {},
   "outputs": [],
   "source": [
    "train_x=train_x.drop(columns='backers')\n",
    "valid_x=valid_x.drop(columns='backers')\n",
    "test_x=test_x.drop(columns='backers')"
   ]
  },
  {
   "cell_type": "code",
   "execution_count": 37,
   "metadata": {},
   "outputs": [
    {
     "data": {
      "text/plain": [
       "DecisionTreeClassifier(class_weight=None, criterion='gini', max_depth=None,\n",
       "            max_features=None, max_leaf_nodes=None,\n",
       "            min_impurity_decrease=0.0, min_impurity_split=None,\n",
       "            min_samples_leaf=1, min_samples_split=2,\n",
       "            min_weight_fraction_leaf=0.0, presort=False, random_state=None,\n",
       "            splitter='best')"
      ]
     },
     "execution_count": 37,
     "metadata": {},
     "output_type": "execute_result"
    }
   ],
   "source": [
    "DTmodel.fit(train_x,train_y)"
   ]
  },
  {
   "cell_type": "code",
   "execution_count": 38,
   "metadata": {},
   "outputs": [
    {
     "data": {
      "text/plain": [
       "1.0"
      ]
     },
     "execution_count": 38,
     "metadata": {},
     "output_type": "execute_result"
    }
   ],
   "source": [
    "DTmodel.score(valid_x,valid_y)"
   ]
  },
  {
   "cell_type": "code",
   "execution_count": 39,
   "metadata": {
    "scrolled": true
   },
   "outputs": [
    {
     "data": {
      "text/plain": [
       "0.6057435742820532"
      ]
     },
     "execution_count": 39,
     "metadata": {},
     "output_type": "execute_result"
    }
   ],
   "source": [
    "DTmodel.score(test_x,test_y)"
   ]
  },
  {
   "cell_type": "markdown",
   "metadata": {},
   "source": [
    "test set에서의 성능은 60%인데 비해 validation set에서는 모두 원하는 state 값을 도출해 낸다는 사실을 알 수 있다. 이를 통해 이 모델을 overfit 되었다는 것을 알 수 있고, 그를 해결하기 위해 pruning를 사용하기로 하였다."
   ]
  },
  {
   "cell_type": "code",
   "execution_count": 40,
   "metadata": {},
   "outputs": [
    {
     "name": "stdout",
     "output_type": "stream",
     "text": [
      "Score of model in validation set is 0.669872616265923\n",
      "Score of model in test set is 0.663073792115776\n"
     ]
    }
   ],
   "source": [
    "DTmodel=DecisionTreeClassifier(min_samples_split=1000, max_depth=10)\n",
    "\n",
    "DTmodel.fit(train_x,train_y)\n",
    "print(\"Score of model in validation set is\",DTmodel.score(valid_x,valid_y))\n",
    "print(\"Score of model in test set is\",DTmodel.score(test_x,test_y))"
   ]
  },
  {
   "cell_type": "markdown",
   "metadata": {},
   "source": [
    "너무 깊은 Tree를 만드는 것을 방지하기 위해 최대 깊이는 10이고 노드의 최대 크기를 1000으로 설정하여 model을 만들어 보았다. 이렇게 설정하니 validation set과 test set의 결과가 거의 비슷하게 나와 underfit 되었다고 예상하였고, 그에 따라 다양한 tree를 만들어 테스트 해보았다."
   ]
  },
  {
   "cell_type": "code",
   "execution_count": 41,
   "metadata": {
    "scrolled": true
   },
   "outputs": [
    {
     "name": "stdout",
     "output_type": "stream",
     "text": [
      "min_samples_split is 50\n",
      "Score of model in validation set is 0.7666691791663526\n",
      "Score of model in test set is 0.6413657948292757\n",
      "\n",
      "min_samples_split is 150\n",
      "Score of model in validation set is 0.7182030602246174\n",
      "Score of model in test set is 0.6641441169819854\n",
      "\n",
      "min_samples_split is 250\n",
      "Score of model in validation set is 0.702856712142911\n",
      "Score of model in test set is 0.6689681163789855\n",
      "\n",
      "min_samples_split is 350\n",
      "Score of model in validation set is 0.6960428129946484\n",
      "Score of model in test set is 0.6696766412904198\n",
      "\n",
      "min_samples_split is 450\n",
      "Score of model in validation set is 0.6916559885430015\n",
      "Score of model in test set is 0.6692394663450667\n",
      "\n",
      "min_samples_split is 550\n",
      "Score of model in validation set is 0.6887465139066857\n",
      "Score of model in test set is 0.6708072661490917\n",
      "\n",
      "min_samples_split is 650\n",
      "Score of model in validation set is 0.6863948142006482\n",
      "Score of model in test set is 0.6705811411773573\n",
      "\n",
      "min_samples_split is 750\n",
      "Score of model in validation set is 0.6832441395944826\n",
      "Score of model in test set is 0.6699781412527324\n",
      "\n",
      "min_samples_split is 850\n",
      "Score of model in validation set is 0.6809376648827918\n",
      "Score of model in test set is 0.6696012662998417\n",
      "\n",
      "min_samples_split is 950\n",
      "Score of model in validation set is 0.6800783899902012\n",
      "Score of model in test set is 0.6691188663601417\n",
      "\n"
     ]
    }
   ],
   "source": [
    "valid_score=[]\n",
    "test_score=[]\n",
    "i=0\n",
    "\n",
    "for mss in range(50,1000,100):\n",
    "    DTmodel=DecisionTreeClassifier(min_samples_split=mss)\n",
    "    print(\"min_samples_split is\",mss)\n",
    "    DTmodel.fit(train_x,train_y)\n",
    "    valid_score.append(DTmodel.score(valid_x,valid_y))\n",
    "    test_score.append(DTmodel.score(test_x,test_y))\n",
    "    print(\"Score of model in validation set is\",valid_score[i])\n",
    "    print(\"Score of model in test set is\",test_score[i])\n",
    "    print()\n",
    "    i+=1\n"
   ]
  },
  {
   "cell_type": "code",
   "execution_count": 42,
   "metadata": {},
   "outputs": [
    {
     "data": {
      "text/plain": [
       "<matplotlib.legend.Legend at 0x1e75a807cf8>"
      ]
     },
     "execution_count": 42,
     "metadata": {},
     "output_type": "execute_result"
    },
    {
     "data": {
      "image/png": "[encoded data removed]",
      "text/plain": [
       "<matplotlib.figure.Figure at 0x1e75b78dcf8>"
      ]
     },
     "metadata": {},
     "output_type": "display_data"
    }
   ],
   "source": [
    "plt.plot([mss for mss in range(50,1000,100)],valid_score,label='valid_score')\n",
    "plt.plot([mss for mss in range(50,1000,100)],test_score,label='test_score')\n",
    "plt.legend()"
   ]
  },
  {
   "cell_type": "markdown",
   "metadata": {},
   "source": [
    "min_samples_split은 250-500 근처일때 test set의 성능이 좋다고 값이 나타났고, 더 진행 되었을 때 validation set의 성능만 낮아지고 test set의 결과는 변화가 거의 없기 때문에 이 데이터만 사용하였을 때 250 가량이 적합하다고 판단하였다."
   ]
  },
  {
   "cell_type": "code",
   "execution_count": 43,
   "metadata": {},
   "outputs": [
    {
     "name": "stdout",
     "output_type": "stream",
     "text": [
      "max_depth is 5\n",
      "Score of model in validation set is 0.6378985452626819\n",
      "Score of model in test set is 0.6345066706866662\n",
      "\n",
      "max_depth is 10\n",
      "Score of model in validation set is 0.6745307906836512\n",
      "Score of model in test set is 0.6624557171930353\n",
      "\n",
      "max_depth is 15\n",
      "Score of model in validation set is 0.7291173588603301\n",
      "Score of model in test set is 0.6603301424587322\n",
      "\n",
      "max_depth is 20\n",
      "Score of model in validation set is 0.8245119469360066\n",
      "Score of model in test set is 0.6402200949724881\n",
      "\n",
      "max_depth is 25\n",
      "Score of model in validation set is 0.9163789854526269\n",
      "Score of model in test set is 0.6208487223939096\n",
      "\n"
     ]
    },
    {
     "data": {
      "text/plain": [
       "<matplotlib.legend.Legend at 0x1e75a881cf8>"
      ]
     },
     "execution_count": 43,
     "metadata": {},
     "output_type": "execute_result"
    },
    {
     "data": {
      "image/png": "[encoded data removed]",
      "text/plain": [
       "<matplotlib.figure.Figure at 0x1e75a7da320>"
      ]
     },
     "metadata": {},
     "output_type": "display_data"
    }
   ],
   "source": [
    "valid_score=[]\n",
    "test_score=[]\n",
    "i=0\n",
    "\n",
    "for md in range(5,30,5):\n",
    "    DTmodel=DecisionTreeClassifier(max_depth=md)\n",
    "    print(\"max_depth is\",md)\n",
    "    DTmodel.fit(train_x,train_y)\n",
    "    valid_score.append(DTmodel.score(valid_x,valid_y))\n",
    "    test_score.append(DTmodel.score(test_x,test_y))\n",
    "    print(\"Score of model in validation set is\",valid_score[i])\n",
    "    print(\"Score of model in test set is\",test_score[i])\n",
    "    print()\n",
    "    i+=1\n",
    "    \n",
    "plt.plot([md for md in range(5,30,5)],valid_score,label='valid_score')\n",
    "plt.plot([md for md in range(5,30,5)],test_score,label='test_score')\n",
    "plt.legend()"
   ]
  },
  {
   "cell_type": "markdown",
   "metadata": {},
   "source": [
    "max depth가 15보다 작아져도 test set의 결과는 차이가 거의 없고 validation set에서의 성능만 변화가 있기 때문에 max depth는 15가 적합하다고 판단하였다. 그리고 min sample split은 특이한 경우에 작은 노드에 대해서 예외처리의 용도로 사용하는 것이 맞다고 생각하여 250을 사용하기 애매하여 몇가지 값에 대해 모델을 만들었다."
   ]
  },
  {
   "cell_type": "code",
   "execution_count": 44,
   "metadata": {
    "scrolled": true
   },
   "outputs": [
    {
     "name": "stdout",
     "output_type": "stream",
     "text": [
      "min_samples_split is 50\n",
      "Score of model in validation set is 0.710258536217683\n",
      "Score of model in test set is 0.6633451420818572\n",
      "\n",
      "min_samples_split is 100\n",
      "Score of model in validation set is 0.7028416371447953\n",
      "Score of model in test set is 0.6668123916484511\n",
      "\n",
      "min_samples_split is 150\n",
      "Score of model in validation set is 0.6989824376271953\n",
      "Score of model in test set is 0.6698424662696917\n",
      "\n",
      "min_samples_split is 200\n",
      "Score of model in validation set is 0.6953493630813297\n",
      "Score of model in test set is 0.6702193412225823\n",
      "\n",
      "min_samples_split is 250\n",
      "Score of model in validation set is 0.6930881133639858\n",
      "Score of model in test set is 0.6706263661717042\n",
      "\n",
      "min_samples_split is 300\n",
      "Score of model in validation set is 0.6906610386673702\n",
      "Score of model in test set is 0.671199216100098\n",
      "\n",
      "min_samples_split is 350\n",
      "Score of model in validation set is 0.6896660887917389\n",
      "Score of model in test set is 0.6698273912715761\n",
      "\n",
      "min_samples_split is 400\n",
      "Score of model in validation set is 0.6883093389613326\n",
      "Score of model in test set is 0.6697218662847667\n",
      "\n",
      "min_samples_split is 450\n",
      "Score of model in validation set is 0.6871334891083138\n",
      "Score of model in test set is 0.6701439662320042\n",
      "\n"
     ]
    },
    {
     "data": {
      "text/plain": [
       "<matplotlib.legend.Legend at 0x1e75a8f5dd8>"
      ]
     },
     "execution_count": 44,
     "metadata": {},
     "output_type": "execute_result"
    },
    {
     "data": {
      "image/png": "[encoded data removed]",
      "text/plain": [
       "<matplotlib.figure.Figure at 0x1e75b2a3f28>"
      ]
     },
     "metadata": {},
     "output_type": "display_data"
    }
   ],
   "source": [
    "valid_score=[]\n",
    "test_score=[]\n",
    "i=0\n",
    "\n",
    "for mss in range(50,500,50):\n",
    "    DTmodel=DecisionTreeClassifier(max_depth=15, min_samples_split=mss)\n",
    "    print(\"min_samples_split is\",mss)\n",
    "    DTmodel.fit(train_x,train_y)\n",
    "    valid_score.append(DTmodel.score(valid_x,valid_y))\n",
    "    test_score.append(DTmodel.score(test_x,test_y))\n",
    "    print(\"Score of model in validation set is\",valid_score[i])\n",
    "    print(\"Score of model in test set is\",test_score[i])\n",
    "    print()\n",
    "    i+=1\n",
    "    \n",
    "plt.plot([mss for mss in range(50,500,50)],valid_score,label='valid_score')\n",
    "plt.plot([mss for mss in range(50,500,50)],test_score,label='test_score')\n",
    "plt.legend()\n"
   ]
  },
  {
   "cell_type": "markdown",
   "metadata": {},
   "source": [
    "min sample split을 200으로 사용하는게 좋은 결과를 나타내었다. 그래프는 200일때 최대값을 보여주었고 valid_score은 계속해서 낮아지는 결과를 볼 수 있었다.\n",
    "\n",
    "\n",
    "### Decision Tree의 최종 모델\n",
    "\n",
    "max depth가 15이고 최소 노드의 크기가 200일때 가장 좋은 model이 생성되었다. 결과는 67.04%의 성능을 띄는 모델이 생성되었다.\n",
    "\n",
    "\n"
   ]
  },
  {
   "cell_type": "markdown",
   "metadata": {},
   "source": [
    "## Multi-Layered Perceptron\n",
    "\n",
    "non-linear model의 대표적인 예시로서 MLP로 model을 만들어 보기로 하였다."
   ]
  },
  {
   "cell_type": "code",
   "execution_count": 45,
   "metadata": {},
   "outputs": [],
   "source": [
    "from sklearn.neural_network import MLPClassifier"
   ]
  },
  {
   "cell_type": "code",
   "execution_count": 46,
   "metadata": {},
   "outputs": [],
   "source": [
    "MLPmodel=MLPClassifier()"
   ]
  },
  {
   "cell_type": "code",
   "execution_count": 47,
   "metadata": {
    "scrolled": true
   },
   "outputs": [
    {
     "name": "stderr",
     "output_type": "stream",
     "text": [
      "C:\\Users\\User\\Anaconda3\\lib\\site-packages\\sklearn\\neural_network\\multilayer_perceptron.py:916: DataConversionWarning: A column-vector y was passed when a 1d array was expected. Please change the shape of y to (n_samples, ), for example using ravel().\n",
      "  y = column_or_1d(y, warn=True)\n"
     ]
    },
    {
     "data": {
      "text/plain": [
       "MLPClassifier(activation='relu', alpha=0.0001, batch_size='auto', beta_1=0.9,\n",
       "       beta_2=0.999, early_stopping=False, epsilon=1e-08,\n",
       "       hidden_layer_sizes=(100,), learning_rate='constant',\n",
       "       learning_rate_init=0.001, max_iter=200, momentum=0.9,\n",
       "       n_iter_no_change=10, nesterovs_momentum=True, power_t=0.5,\n",
       "       random_state=None, shuffle=True, solver='adam', tol=0.0001,\n",
       "       validation_fraction=0.1, verbose=False, warm_start=False)"
      ]
     },
     "execution_count": 47,
     "metadata": {},
     "output_type": "execute_result"
    }
   ],
   "source": [
    "MLPmodel.fit(train_x, train_y)"
   ]
  },
  {
   "cell_type": "code",
   "execution_count": 48,
   "metadata": {
    "scrolled": false
   },
   "outputs": [
    {
     "data": {
      "text/plain": [
       "0.5959900505012437"
      ]
     },
     "execution_count": 48,
     "metadata": {},
     "output_type": "execute_result"
    }
   ],
   "source": [
    "MLPmodel.score(test_x, test_y)"
   ]
  },
  {
   "cell_type": "code",
   "execution_count": 49,
   "metadata": {},
   "outputs": [
    {
     "data": {
      "text/plain": [
       "0.5947388256576468"
      ]
     },
     "execution_count": 49,
     "metadata": {},
     "output_type": "execute_result"
    }
   ],
   "source": [
    "MLPmodel.score(valid_x, valid_y)"
   ]
  },
  {
   "cell_type": "markdown",
   "metadata": {},
   "source": [
    "아무런 조작 없이 MLP로 모델을 만들었을 때 결과값이다. validation set과 test set의 성능차이가 거의 없고, 상당히 낮은 성능을 보여준다. underfit 되었다고 볼 수 있다. 조금 더 정밀한 모델을 만들기 위해 hidden layer의 개수를 늘려주었다."
   ]
  },
  {
   "cell_type": "code",
   "execution_count": 50,
   "metadata": {
    "scrolled": true
   },
   "outputs": [],
   "source": [
    "MLPmodel = MLPClassifier(hidden_layer_sizes=(250,100, 50, 20, 10,), activation='logistic', solver='sgd')"
   ]
  },
  {
   "cell_type": "code",
   "execution_count": 51,
   "metadata": {},
   "outputs": [
    {
     "name": "stderr",
     "output_type": "stream",
     "text": [
      "C:\\Users\\User\\Anaconda3\\lib\\site-packages\\sklearn\\neural_network\\multilayer_perceptron.py:916: DataConversionWarning: A column-vector y was passed when a 1d array was expected. Please change the shape of y to (n_samples, ), for example using ravel().\n",
      "  y = column_or_1d(y, warn=True)\n"
     ]
    },
    {
     "data": {
      "text/plain": [
       "MLPClassifier(activation='logistic', alpha=0.0001, batch_size='auto',\n",
       "       beta_1=0.9, beta_2=0.999, early_stopping=False, epsilon=1e-08,\n",
       "       hidden_layer_sizes=(250, 100, 50, 20, 10), learning_rate='constant',\n",
       "       learning_rate_init=0.001, max_iter=200, momentum=0.9,\n",
       "       n_iter_no_change=10, nesterovs_momentum=True, power_t=0.5,\n",
       "       random_state=None, shuffle=True, solver='sgd', tol=0.0001,\n",
       "       validation_fraction=0.1, verbose=False, warm_start=False)"
      ]
     },
     "execution_count": 51,
     "metadata": {},
     "output_type": "execute_result"
    }
   ],
   "source": [
    "MLPmodel.fit(train_x, train_y)"
   ]
  },
  {
   "cell_type": "code",
   "execution_count": 52,
   "metadata": {},
   "outputs": [
    {
     "data": {
      "text/plain": [
       "0.5959900505012437"
      ]
     },
     "execution_count": 52,
     "metadata": {},
     "output_type": "execute_result"
    }
   ],
   "source": [
    "MLPmodel.score(test_x, test_y)"
   ]
  },
  {
   "cell_type": "code",
   "execution_count": 53,
   "metadata": {},
   "outputs": [
    {
     "data": {
      "text/plain": [
       "0.5947388256576468"
      ]
     },
     "execution_count": 53,
     "metadata": {},
     "output_type": "execute_result"
    }
   ],
   "source": [
    "MLPmodel.score(valid_x, valid_y)"
   ]
  },
  {
   "cell_type": "markdown",
   "metadata": {},
   "source": [
    "hidden layer의 수를 늘려도 15% 정도의 성능이 좋아지긴 했지만 validation과 test set의 성능이 비슷한 것으로 보아 마찬가지로 underfit 되었다고 생각할 수 있다. 계속해서 늘려보면서 차이를 비교해보았다. 그리고 계산 시간이 너무 길어지는 것을 방지하기 위해서 learning_rate_init의 크기를 늘리고 max_iter의 크기를 줄여주었다."
   ]
  },
  {
   "cell_type": "markdown",
   "metadata": {},
   "source": [
    "MLPmodel=MLPClassifier(hidden_layer_sizes=(500, 250, 100, 50, 20, 10,), activation='logistic', solver='sgd', learning_rate_init=0.05, max_iter=100)\n",
    "MLPmodel.fit(train_x, train_y)\n",
    "\n",
    "너무 오래걸리므로 좋은 모델로 이용되기 어려워 보인다. 이유는 이 dataset이 너무 크기 때문으로 여겨져서 instance를 10000개만 이용하여 새로운 데이터 셋을 만들고 그 데이터를 이용해서 계속해서 실험해보도록 하였다."
   ]
  },
  {
   "cell_type": "code",
   "execution_count": 54,
   "metadata": {},
   "outputs": [],
   "source": [
    "train_mlp_x=train_x[:10000]\n",
    "train_mlp_y=train_y[:10000]\n",
    "valid_mlp = train[:10000].sample(frac=0.25)\n",
    "valid_mlp_x=valid_mlp.drop(columns=['state','pledged_rate','backers'])\n",
    "valid_mlp_y=valid_mlp[['state']]\n",
    "test_mlp_x=test_x[:10000]\n",
    "test_mlp_y=test_y[:10000]"
   ]
  },
  {
   "cell_type": "code",
   "execution_count": 55,
   "metadata": {},
   "outputs": [],
   "source": [
    "MLPmodel = MLPClassifier(hidden_layer_sizes=(250,100, 50, 20, 10,), activation='logistic', solver='sgd')"
   ]
  },
  {
   "cell_type": "code",
   "execution_count": 56,
   "metadata": {},
   "outputs": [
    {
     "name": "stderr",
     "output_type": "stream",
     "text": [
      "C:\\Users\\User\\Anaconda3\\lib\\site-packages\\sklearn\\neural_network\\multilayer_perceptron.py:916: DataConversionWarning: A column-vector y was passed when a 1d array was expected. Please change the shape of y to (n_samples, ), for example using ravel().\n",
      "  y = column_or_1d(y, warn=True)\n"
     ]
    },
    {
     "data": {
      "text/plain": [
       "MLPClassifier(activation='logistic', alpha=0.0001, batch_size='auto',\n",
       "       beta_1=0.9, beta_2=0.999, early_stopping=False, epsilon=1e-08,\n",
       "       hidden_layer_sizes=(250, 100, 50, 20, 10), learning_rate='constant',\n",
       "       learning_rate_init=0.001, max_iter=200, momentum=0.9,\n",
       "       n_iter_no_change=10, nesterovs_momentum=True, power_t=0.5,\n",
       "       random_state=None, shuffle=True, solver='sgd', tol=0.0001,\n",
       "       validation_fraction=0.1, verbose=False, warm_start=False)"
      ]
     },
     "execution_count": 56,
     "metadata": {},
     "output_type": "execute_result"
    }
   ],
   "source": [
    "MLPmodel.fit(train_mlp_x, train_mlp_y)"
   ]
  },
  {
   "cell_type": "code",
   "execution_count": 57,
   "metadata": {},
   "outputs": [
    {
     "data": {
      "text/plain": [
       "0.5904"
      ]
     },
     "execution_count": 57,
     "metadata": {},
     "output_type": "execute_result"
    }
   ],
   "source": [
    "MLPmodel.score(test_mlp_x, test_mlp_y)"
   ]
  },
  {
   "cell_type": "code",
   "execution_count": 58,
   "metadata": {},
   "outputs": [
    {
     "data": {
      "text/plain": [
       "0.6128"
      ]
     },
     "execution_count": 58,
     "metadata": {},
     "output_type": "execute_result"
    }
   ],
   "source": [
    "MLPmodel.score(valid_mlp_x, valid_mlp_y)"
   ]
  },
  {
   "cell_type": "markdown",
   "metadata": {},
   "source": [
    "10000개로 줄여도 거의 성능의 변화가 없으나 시간이 확연하게 줄어듬을 알 수 있다. 이 data를 이용하여 hidden layer을 늘려가며 적합한 모델을 찾아보도록 하였다."
   ]
  },
  {
   "cell_type": "code",
   "execution_count": 59,
   "metadata": {},
   "outputs": [],
   "source": [
    "MLPmodel = MLPClassifier(hidden_layer_sizes=(500, 250,100, 50, 20, 10,), activation='logistic', solver='sgd')"
   ]
  },
  {
   "cell_type": "code",
   "execution_count": 60,
   "metadata": {},
   "outputs": [
    {
     "name": "stderr",
     "output_type": "stream",
     "text": [
      "C:\\Users\\User\\Anaconda3\\lib\\site-packages\\sklearn\\neural_network\\multilayer_perceptron.py:916: DataConversionWarning: A column-vector y was passed when a 1d array was expected. Please change the shape of y to (n_samples, ), for example using ravel().\n",
      "  y = column_or_1d(y, warn=True)\n"
     ]
    },
    {
     "data": {
      "text/plain": [
       "MLPClassifier(activation='logistic', alpha=0.0001, batch_size='auto',\n",
       "       beta_1=0.9, beta_2=0.999, early_stopping=False, epsilon=1e-08,\n",
       "       hidden_layer_sizes=(500, 250, 100, 50, 20, 10),\n",
       "       learning_rate='constant', learning_rate_init=0.001, max_iter=200,\n",
       "       momentum=0.9, n_iter_no_change=10, nesterovs_momentum=True,\n",
       "       power_t=0.5, random_state=None, shuffle=True, solver='sgd',\n",
       "       tol=0.0001, validation_fraction=0.1, verbose=False,\n",
       "       warm_start=False)"
      ]
     },
     "execution_count": 60,
     "metadata": {},
     "output_type": "execute_result"
    }
   ],
   "source": [
    "MLPmodel.fit(train_mlp_x, train_mlp_y)"
   ]
  },
  {
   "cell_type": "code",
   "execution_count": 61,
   "metadata": {},
   "outputs": [
    {
     "data": {
      "text/plain": [
       "0.5904"
      ]
     },
     "execution_count": 61,
     "metadata": {},
     "output_type": "execute_result"
    }
   ],
   "source": [
    "MLPmodel.score(test_mlp_x, test_mlp_y)"
   ]
  },
  {
   "cell_type": "code",
   "execution_count": 62,
   "metadata": {},
   "outputs": [
    {
     "data": {
      "text/plain": [
       "0.6128"
      ]
     },
     "execution_count": 62,
     "metadata": {},
     "output_type": "execute_result"
    }
   ],
   "source": [
    "MLPmodel.score(valid_mlp_x, valid_mlp_y)"
   ]
  },
  {
   "cell_type": "markdown",
   "metadata": {},
   "source": [
    "hidden layer을 늘렸음에도 성능이 변하지 않았다. local minima에 빠져서 원하는 값이 나오지 않았다고 판단하여 hidden layer을 다시 줄이고 learning rate와 momentum에 변화를 주어보았다."
   ]
  },
  {
   "cell_type": "code",
   "execution_count": 63,
   "metadata": {},
   "outputs": [],
   "source": [
    "MLPmodel = MLPClassifier(hidden_layer_sizes=(250,100, 50, 20, 10,), activation='logistic', solver='sgd',learning_rate_init=0.1)"
   ]
  },
  {
   "cell_type": "code",
   "execution_count": 64,
   "metadata": {},
   "outputs": [
    {
     "name": "stderr",
     "output_type": "stream",
     "text": [
      "C:\\Users\\User\\Anaconda3\\lib\\site-packages\\sklearn\\neural_network\\multilayer_perceptron.py:916: DataConversionWarning: A column-vector y was passed when a 1d array was expected. Please change the shape of y to (n_samples, ), for example using ravel().\n",
      "  y = column_or_1d(y, warn=True)\n"
     ]
    },
    {
     "data": {
      "text/plain": [
       "MLPClassifier(activation='logistic', alpha=0.0001, batch_size='auto',\n",
       "       beta_1=0.9, beta_2=0.999, early_stopping=False, epsilon=1e-08,\n",
       "       hidden_layer_sizes=(250, 100, 50, 20, 10), learning_rate='constant',\n",
       "       learning_rate_init=0.1, max_iter=200, momentum=0.9,\n",
       "       n_iter_no_change=10, nesterovs_momentum=True, power_t=0.5,\n",
       "       random_state=None, shuffle=True, solver='sgd', tol=0.0001,\n",
       "       validation_fraction=0.1, verbose=False, warm_start=False)"
      ]
     },
     "execution_count": 64,
     "metadata": {},
     "output_type": "execute_result"
    }
   ],
   "source": [
    "MLPmodel.fit(train_mlp_x, train_mlp_y)"
   ]
  },
  {
   "cell_type": "code",
   "execution_count": 65,
   "metadata": {},
   "outputs": [
    {
     "data": {
      "text/plain": [
       "0.5904"
      ]
     },
     "execution_count": 65,
     "metadata": {},
     "output_type": "execute_result"
    }
   ],
   "source": [
    "MLPmodel.score(test_mlp_x, test_mlp_y)"
   ]
  },
  {
   "cell_type": "code",
   "execution_count": 66,
   "metadata": {},
   "outputs": [
    {
     "data": {
      "text/plain": [
       "0.6128"
      ]
     },
     "execution_count": 66,
     "metadata": {},
     "output_type": "execute_result"
    }
   ],
   "source": [
    "MLPmodel.score(valid_mlp_x, valid_mlp_y)"
   ]
  },
  {
   "cell_type": "code",
   "execution_count": 67,
   "metadata": {},
   "outputs": [
    {
     "name": "stderr",
     "output_type": "stream",
     "text": [
      "C:\\Users\\User\\Anaconda3\\lib\\site-packages\\sklearn\\neural_network\\multilayer_perceptron.py:916: DataConversionWarning: A column-vector y was passed when a 1d array was expected. Please change the shape of y to (n_samples, ), for example using ravel().\n",
      "  y = column_or_1d(y, warn=True)\n"
     ]
    },
    {
     "name": "stdout",
     "output_type": "stream",
     "text": [
      "0.5904\n",
      "0.6128\n"
     ]
    }
   ],
   "source": [
    "MLPmodel = MLPClassifier(hidden_layer_sizes=(250,100, 50, 20, 10,), activation='logistic', solver='sgd',learning_rate_init=0.01)\n",
    "\n",
    "MLPmodel.fit(train_mlp_x, train_mlp_y)\n",
    "\n",
    "print(MLPmodel.score(test_mlp_x, test_mlp_y))\n",
    "print(MLPmodel.score(valid_mlp_x, valid_mlp_y))"
   ]
  },
  {
   "cell_type": "code",
   "execution_count": 68,
   "metadata": {},
   "outputs": [
    {
     "name": "stderr",
     "output_type": "stream",
     "text": [
      "C:\\Users\\User\\Anaconda3\\lib\\site-packages\\sklearn\\neural_network\\multilayer_perceptron.py:916: DataConversionWarning: A column-vector y was passed when a 1d array was expected. Please change the shape of y to (n_samples, ), for example using ravel().\n",
      "  y = column_or_1d(y, warn=True)\n"
     ]
    },
    {
     "name": "stdout",
     "output_type": "stream",
     "text": [
      "0.5904\n",
      "0.6128\n"
     ]
    }
   ],
   "source": [
    "MLPmodel = MLPClassifier(hidden_layer_sizes=(250,100, 50, 20, 10,), activation='logistic', solver='sgd',learning_rate_init=0.0001)\n",
    "\n",
    "MLPmodel.fit(train_mlp_x, train_mlp_y)\n",
    "\n",
    "print(MLPmodel.score(test_mlp_x, test_mlp_y))\n",
    "print(MLPmodel.score(valid_mlp_x, valid_mlp_y))"
   ]
  },
  {
   "cell_type": "code",
   "execution_count": 69,
   "metadata": {},
   "outputs": [
    {
     "name": "stderr",
     "output_type": "stream",
     "text": [
      "C:\\Users\\User\\Anaconda3\\lib\\site-packages\\sklearn\\neural_network\\multilayer_perceptron.py:916: DataConversionWarning: A column-vector y was passed when a 1d array was expected. Please change the shape of y to (n_samples, ), for example using ravel().\n",
      "  y = column_or_1d(y, warn=True)\n"
     ]
    },
    {
     "name": "stdout",
     "output_type": "stream",
     "text": [
      "0.5904\n",
      "0.6128\n"
     ]
    }
   ],
   "source": [
    "MLPmodel = MLPClassifier(hidden_layer_sizes=(250,100, 50, 20, 10,), activation='logistic', solver='sgd',momentum=0.5)\n",
    "\n",
    "MLPmodel.fit(train_mlp_x, train_mlp_y)\n",
    "\n",
    "print(MLPmodel.score(test_mlp_x, test_mlp_y))\n",
    "print(MLPmodel.score(valid_mlp_x, valid_mlp_y))"
   ]
  },
  {
   "cell_type": "code",
   "execution_count": 70,
   "metadata": {},
   "outputs": [
    {
     "name": "stderr",
     "output_type": "stream",
     "text": [
      "C:\\Users\\User\\Anaconda3\\lib\\site-packages\\sklearn\\neural_network\\multilayer_perceptron.py:916: DataConversionWarning: A column-vector y was passed when a 1d array was expected. Please change the shape of y to (n_samples, ), for example using ravel().\n",
      "  y = column_or_1d(y, warn=True)\n"
     ]
    },
    {
     "name": "stdout",
     "output_type": "stream",
     "text": [
      "0.5904\n",
      "0.6128\n"
     ]
    }
   ],
   "source": [
    "MLPmodel = MLPClassifier(hidden_layer_sizes=(250,100, 50, 20, 10,), activation='logistic', solver='sgd',momentum=0.99)\n",
    "\n",
    "MLPmodel.fit(train_mlp_x, train_mlp_y)\n",
    "\n",
    "print(MLPmodel.score(test_mlp_x, test_mlp_y))\n",
    "print(MLPmodel.score(valid_mlp_x, valid_mlp_y))"
   ]
  },
  {
   "cell_type": "code",
   "execution_count": 71,
   "metadata": {},
   "outputs": [
    {
     "name": "stderr",
     "output_type": "stream",
     "text": [
      "C:\\Users\\User\\Anaconda3\\lib\\site-packages\\sklearn\\neural_network\\multilayer_perceptron.py:916: DataConversionWarning: A column-vector y was passed when a 1d array was expected. Please change the shape of y to (n_samples, ), for example using ravel().\n",
      "  y = column_or_1d(y, warn=True)\n"
     ]
    },
    {
     "name": "stdout",
     "output_type": "stream",
     "text": [
      "0.5904\n",
      "0.6128\n"
     ]
    }
   ],
   "source": [
    "MLPmodel = MLPClassifier(hidden_layer_sizes=(100, 50, 20, 10,), activation='relu', solver='adam',momentum=0.99)\n",
    "\n",
    "MLPmodel.fit(train_mlp_x, train_mlp_y)\n",
    "\n",
    "print(MLPmodel.score(test_mlp_x, test_mlp_y))\n",
    "print(MLPmodel.score(valid_mlp_x, valid_mlp_y))"
   ]
  },
  {
   "cell_type": "markdown",
   "metadata": {},
   "source": [
    "정확한 이유는 알 수 없지만 다양한 값의 변화를 주어도 결과가 계속 동일한 값을 나타낸다. 데이터가 정확한 값을 예측하기 힘들고 양이 방대해 MLP가 깊은 layer에서 vanishing gradient의 문제가 나타나서 원하는 결과가 나타나지 않는 것으로 생각된다. \n",
    "\n",
    "결론적으로 Multi-Layered Perceptron을 이용한 모델은 59% 정도의 성능으로 좋은 성능을 내지 못했고, 거대한 양의 데이터가 있을 때에는 좋은 방법으로 여겨지지 않는다."
   ]
  },
  {
   "cell_type": "markdown",
   "metadata": {},
   "source": [
    "## Random Forest\n",
    "\n",
    "MLP에서 backpropagation이 제대로 작동하지 않았기 때문에 다른 neural network로 시도해 보았다. Decision Tree들의 앙상블 기법을 이용하여 만드는 Random Forest을 이용해 모델로 만들어 보았다."
   ]
  },
  {
   "cell_type": "code",
   "execution_count": 72,
   "metadata": {},
   "outputs": [],
   "source": [
    "from sklearn.ensemble import RandomForestClassifier"
   ]
  },
  {
   "cell_type": "code",
   "execution_count": 73,
   "metadata": {},
   "outputs": [
    {
     "name": "stderr",
     "output_type": "stream",
     "text": [
      "C:\\Users\\User\\Anaconda3\\lib\\site-packages\\sklearn\\ensemble\\forest.py:246: FutureWarning: The default value of n_estimators will change from 10 in version 0.20 to 100 in 0.22.\n",
      "  \"10 in version 0.20 to 100 in 0.22.\", FutureWarning)\n",
      "C:\\Users\\User\\Anaconda3\\lib\\site-packages\\ipykernel_launcher.py:2: DataConversionWarning: A column-vector y was passed when a 1d array was expected. Please change the shape of y to (n_samples,), for example using ravel().\n",
      "  \n"
     ]
    },
    {
     "name": "stdout",
     "output_type": "stream",
     "text": [
      "0.6536971432878571\n",
      "0.9792568025928997\n"
     ]
    }
   ],
   "source": [
    "RFmodel = RandomForestClassifier(random_state=1)\n",
    "RFmodel.fit(train_x, train_y)\n",
    "\n",
    "print(RFmodel.score(test_x, test_y))\n",
    "print(RFmodel.score(valid_x, valid_y))"
   ]
  },
  {
   "cell_type": "markdown",
   "metadata": {},
   "source": [
    "기본 random forest 알고리즘에 대해 실행을 해 보았을 때 상당히 overfitting 된 모습을 확인할 수 있다. 그에 따라서 decision tree에서 했던 것처럼 여기에서도 max_depth 변경을 통해서 조금 더 원하는 모델을 찾아보려고 하였다."
   ]
  },
  {
   "cell_type": "code",
   "execution_count": 74,
   "metadata": {},
   "outputs": [
    {
     "name": "stdout",
     "output_type": "stream",
     "text": [
      "max_depth is 5\n"
     ]
    },
    {
     "name": "stderr",
     "output_type": "stream",
     "text": [
      "C:\\Users\\User\\Anaconda3\\lib\\site-packages\\sklearn\\ensemble\\forest.py:246: FutureWarning: The default value of n_estimators will change from 10 in version 0.20 to 100 in 0.22.\n",
      "  \"10 in version 0.20 to 100 in 0.22.\", FutureWarning)\n",
      "C:\\Users\\User\\Anaconda3\\lib\\site-packages\\ipykernel_launcher.py:8: DataConversionWarning: A column-vector y was passed when a 1d array was expected. Please change the shape of y to (n_samples,), for example using ravel().\n",
      "  \n"
     ]
    },
    {
     "name": "stdout",
     "output_type": "stream",
     "text": [
      "Score of model in validation set is 0.6440189944976257\n",
      "Score of model in test set is 0.6446219944222507\n",
      "\n",
      "max_depth is 10\n"
     ]
    },
    {
     "name": "stderr",
     "output_type": "stream",
     "text": [
      "C:\\Users\\User\\Anaconda3\\lib\\site-packages\\sklearn\\ensemble\\forest.py:246: FutureWarning: The default value of n_estimators will change from 10 in version 0.20 to 100 in 0.22.\n",
      "  \"10 in version 0.20 to 100 in 0.22.\", FutureWarning)\n",
      "C:\\Users\\User\\Anaconda3\\lib\\site-packages\\ipykernel_launcher.py:8: DataConversionWarning: A column-vector y was passed when a 1d array was expected. Please change the shape of y to (n_samples,), for example using ravel().\n",
      "  \n"
     ]
    },
    {
     "name": "stdout",
     "output_type": "stream",
     "text": [
      "Score of model in validation set is 0.6772141403482325\n",
      "Score of model in test set is 0.669993216250848\n",
      "\n",
      "max_depth is 15\n"
     ]
    },
    {
     "name": "stderr",
     "output_type": "stream",
     "text": [
      "C:\\Users\\User\\Anaconda3\\lib\\site-packages\\sklearn\\ensemble\\forest.py:246: FutureWarning: The default value of n_estimators will change from 10 in version 0.20 to 100 in 0.22.\n",
      "  \"10 in version 0.20 to 100 in 0.22.\", FutureWarning)\n",
      "C:\\Users\\User\\Anaconda3\\lib\\site-packages\\ipykernel_launcher.py:8: DataConversionWarning: A column-vector y was passed when a 1d array was expected. Please change the shape of y to (n_samples,), for example using ravel().\n",
      "  \n"
     ]
    },
    {
     "name": "stdout",
     "output_type": "stream",
     "text": [
      "Score of model in validation set is 0.7336097082987865\n",
      "Score of model in test set is 0.6799728650033918\n",
      "\n",
      "max_depth is 20\n"
     ]
    },
    {
     "name": "stderr",
     "output_type": "stream",
     "text": [
      "C:\\Users\\User\\Anaconda3\\lib\\site-packages\\sklearn\\ensemble\\forest.py:246: FutureWarning: The default value of n_estimators will change from 10 in version 0.20 to 100 in 0.22.\n",
      "  \"10 in version 0.20 to 100 in 0.22.\", FutureWarning)\n",
      "C:\\Users\\User\\Anaconda3\\lib\\site-packages\\ipykernel_launcher.py:8: DataConversionWarning: A column-vector y was passed when a 1d array was expected. Please change the shape of y to (n_samples,), for example using ravel().\n",
      "  \n"
     ]
    },
    {
     "name": "stdout",
     "output_type": "stream",
     "text": [
      "Score of model in validation set is 0.8440189944976257\n",
      "Score of model in test set is 0.671440416069948\n",
      "\n",
      "max_depth is 25\n"
     ]
    },
    {
     "name": "stderr",
     "output_type": "stream",
     "text": [
      "C:\\Users\\User\\Anaconda3\\lib\\site-packages\\sklearn\\ensemble\\forest.py:246: FutureWarning: The default value of n_estimators will change from 10 in version 0.20 to 100 in 0.22.\n",
      "  \"10 in version 0.20 to 100 in 0.22.\", FutureWarning)\n",
      "C:\\Users\\User\\Anaconda3\\lib\\site-packages\\ipykernel_launcher.py:8: DataConversionWarning: A column-vector y was passed when a 1d array was expected. Please change the shape of y to (n_samples,), for example using ravel().\n",
      "  \n"
     ]
    },
    {
     "name": "stdout",
     "output_type": "stream",
     "text": [
      "Score of model in validation set is 0.9336549332931333\n",
      "Score of model in test set is 0.663556192055476\n",
      "\n"
     ]
    },
    {
     "data": {
      "text/plain": [
       "<matplotlib.legend.Legend at 0x1e702688be0>"
      ]
     },
     "execution_count": 74,
     "metadata": {},
     "output_type": "execute_result"
    },
    {
     "data": {
      "image/png": "[encoded data removed]",
      "text/plain": [
       "<matplotlib.figure.Figure at 0x1e702651438>"
      ]
     },
     "metadata": {},
     "output_type": "display_data"
    }
   ],
   "source": [
    "valid_score=[]\n",
    "test_score=[]\n",
    "i=0\n",
    "\n",
    "for md in range(5,30,5):\n",
    "    RFmodel = RandomForestClassifier(max_depth=md,random_state=1)\n",
    "    print(\"max_depth is\",md)\n",
    "    RFmodel.fit(train_x, train_y)\n",
    "    valid_score.append(RFmodel.score(valid_x,valid_y))\n",
    "    test_score.append(RFmodel.score(test_x,test_y))\n",
    "    print(\"Score of model in validation set is\",valid_score[i])\n",
    "    print(\"Score of model in test set is\",test_score[i])\n",
    "    print()\n",
    "    i+=1\n",
    "    \n",
    "plt.plot([md for md in range(5,30,5)],valid_score,label='valid_score')\n",
    "plt.plot([md for md in range(5,30,5)],test_score,label='test_score')\n",
    "plt.legend()"
   ]
  },
  {
   "cell_type": "markdown",
   "metadata": {},
   "source": [
    "decision tree와 마찬가지로 15일때 가장 test의 성능이 좋았다. 하지만 Decision Tree와 비교했을때 1% 정도의 차이밖에 나타나지 않는 것으로 보아 데이터 셋의 구조가 크게 변칙적이지 않고 일정하다는 것을 알 수 있었다.\n",
    "\n",
    "그래서 이 Random Forest를 이용하였을 때는 MLP와는 다르게 제대로 작동하였으며, 커다란 데이터에서도 잘 작동한다는 것을 알 수 있었다. 최대 68%의 성능을 보이는 모델을 생성하였다."
   ]
  },
  {
   "cell_type": "markdown",
   "metadata": {},
   "source": [
    "## Naive Bayes\n",
    "\n",
    "데이터가 크게 복잡하지 않고, 크지만 단순한 구조를 가졌으므로 수학적 계산을 통해서 답을 도출해 내었을때는 어떤 결과를 나타내는지 궁금하여 naive bayes를 이용하여 classify해 보았다."
   ]
  },
  {
   "cell_type": "code",
   "execution_count": 75,
   "metadata": {},
   "outputs": [],
   "source": [
    "from sklearn.naive_bayes import MultinomialNB"
   ]
  },
  {
   "cell_type": "code",
   "execution_count": 76,
   "metadata": {},
   "outputs": [
    {
     "name": "stdout",
     "output_type": "stream",
     "text": [
      "0.4861686892289138\n",
      "0.4846461144192357\n"
     ]
    },
    {
     "name": "stderr",
     "output_type": "stream",
     "text": [
      "C:\\Users\\User\\Anaconda3\\lib\\site-packages\\sklearn\\utils\\validation.py:761: DataConversionWarning: A column-vector y was passed when a 1d array was expected. Please change the shape of y to (n_samples, ), for example using ravel().\n",
      "  y = column_or_1d(y, warn=True)\n"
     ]
    }
   ],
   "source": [
    "NBmodel = MultinomialNB()\n",
    "NBmodel.fit(train_x, train_y)\n",
    "\n",
    "print(NBmodel.score(test_x, test_y))\n",
    "print(NBmodel.score(valid_x, valid_y))"
   ]
  },
  {
   "cell_type": "markdown",
   "metadata": {},
   "source": [
    "그저 수학적으로 확률을 계산한 것이기 때문에 underfit 되었다고 생각할 수 없다. 이렇게 계산한 결과값의 경우 50%도 되지 않는 성능을 보이기 때문에 좋은 모델로서 채택될 수 없다."
   ]
  },
  {
   "cell_type": "markdown",
   "metadata": {},
   "source": [
    "## Keras의 Deep Learning 라이브러리"
   ]
  },
  {
   "cell_type": "markdown",
   "metadata": {},
   "source": [
    "기본적인 기계학습 모델에 대해서는 전반적으로 생각해 보았고, 딥러닝에 대해 어떤 결과를 얻는지 확인해 보기 위해 keras의 sequential model을 사용하여 학습시켜 보았다."
   ]
  },
  {
   "cell_type": "code",
   "execution_count": 77,
   "metadata": {},
   "outputs": [
    {
     "name": "stderr",
     "output_type": "stream",
     "text": [
      "C:\\Users\\User\\Anaconda3\\lib\\site-packages\\h5py\\__init__.py:36: FutureWarning: Conversion of the second argument of issubdtype from `float` to `np.floating` is deprecated. In future, it will be treated as `np.float64 == np.dtype(float).type`.\n",
      "  from ._conv import register_converters as _register_converters\n",
      "Using TensorFlow backend.\n"
     ]
    }
   ],
   "source": [
    "import keras"
   ]
  },
  {
   "cell_type": "code",
   "execution_count": 78,
   "metadata": {
    "scrolled": true
   },
   "outputs": [],
   "source": [
    "from keras.models import Sequential"
   ]
  },
  {
   "cell_type": "code",
   "execution_count": 79,
   "metadata": {},
   "outputs": [],
   "source": [
    "Smodel = Sequential()"
   ]
  },
  {
   "cell_type": "code",
   "execution_count": 80,
   "metadata": {},
   "outputs": [],
   "source": [
    "from keras.layers import Dense, InputLayer"
   ]
  },
  {
   "cell_type": "code",
   "execution_count": 81,
   "metadata": {},
   "outputs": [],
   "source": [
    "Smodel.add(InputLayer(input_shape=(7,)))"
   ]
  },
  {
   "cell_type": "code",
   "execution_count": 82,
   "metadata": {},
   "outputs": [],
   "source": [
    "Smodel.add(Dense(units=10, activation='relu'))\n",
    "Smodel.add(Dense(units=6, activation='relu'))\n",
    "Smodel.add(Dense(units=3, activation='relu'))\n",
    "Smodel.add(Dense(units=1, activation='sigmoid'))"
   ]
  },
  {
   "cell_type": "code",
   "execution_count": 83,
   "metadata": {},
   "outputs": [
    {
     "name": "stdout",
     "output_type": "stream",
     "text": [
      "_________________________________________________________________\n",
      "Layer (type)                 Output Shape              Param #   \n",
      "=================================================================\n",
      "dense_1 (Dense)              (None, 10)                80        \n",
      "_________________________________________________________________\n",
      "dense_2 (Dense)              (None, 6)                 66        \n",
      "_________________________________________________________________\n",
      "dense_3 (Dense)              (None, 3)                 21        \n",
      "_________________________________________________________________\n",
      "dense_4 (Dense)              (None, 1)                 4         \n",
      "=================================================================\n",
      "Total params: 171\n",
      "Trainable params: 171\n",
      "Non-trainable params: 0\n",
      "_________________________________________________________________\n"
     ]
    }
   ],
   "source": [
    "Smodel.summary()"
   ]
  },
  {
   "cell_type": "code",
   "execution_count": 84,
   "metadata": {},
   "outputs": [],
   "source": [
    "Smodel.compile(optimizer='sgd', loss='mean_squared_error', metrics=['accuracy'])"
   ]
  },
  {
   "cell_type": "markdown",
   "metadata": {},
   "source": [
    "data의 양이 너무 많기 때문에 MLP에서 사용했듯이 10000개의 instance에 대해서만 학습해보도록 하였다."
   ]
  },
  {
   "cell_type": "code",
   "execution_count": 85,
   "metadata": {},
   "outputs": [],
   "source": [
    "train_s_x=train_x[:10000]\n",
    "train_s_y=train_y[:10000]\n",
    "valid_s = train[:10000].sample(frac=0.25)\n",
    "valid_s_x=valid_s.drop(columns=['state','pledged_rate','backers'])\n",
    "valid_s_y=valid_s[['state']]\n",
    "test_s_x=test_x[:10000]\n",
    "test_s_y=test_y[:10000]"
   ]
  },
  {
   "cell_type": "code",
   "execution_count": 86,
   "metadata": {
    "scrolled": true
   },
   "outputs": [
    {
     "name": "stdout",
     "output_type": "stream",
     "text": [
      "Train on 10000 samples, validate on 10000 samples\n",
      "Epoch 1/20\n",
      "10000/10000 [==============================] - 4s 432us/step - loss: 0.6009 - acc: 0.3991 - val_loss: 0.5904 - val_acc: 0.4096\n",
      "Epoch 2/20\n",
      "10000/10000 [==============================] - 1s 125us/step - loss: 0.6009 - acc: 0.3991 - val_loss: 0.5904 - val_acc: 0.4096\n",
      "Epoch 3/20\n",
      "10000/10000 [==============================] - 1s 128us/step - loss: 0.6009 - acc: 0.3991 - val_loss: 0.5904 - val_acc: 0.4096\n",
      "Epoch 4/20\n",
      "10000/10000 [==============================] - 1s 127us/step - loss: 0.6009 - acc: 0.3991 - val_loss: 0.5904 - val_acc: 0.4096\n",
      "Epoch 5/20\n",
      "10000/10000 [==============================] - 1s 128us/step - loss: 0.6009 - acc: 0.3991 - val_loss: 0.5904 - val_acc: 0.4096\n",
      "Epoch 6/20\n",
      "10000/10000 [==============================] - 1s 122us/step - loss: 0.6009 - acc: 0.3991 - val_loss: 0.5904 - val_acc: 0.4096\n",
      "Epoch 7/20\n",
      "10000/10000 [==============================] - 1s 125us/step - loss: 0.6009 - acc: 0.3991 - val_loss: 0.5904 - val_acc: 0.4096\n",
      "Epoch 8/20\n",
      "10000/10000 [==============================] - 1s 125us/step - loss: 0.6009 - acc: 0.3991 - val_loss: 0.5904 - val_acc: 0.4096\n",
      "Epoch 9/20\n",
      "10000/10000 [==============================] - 1s 140us/step - loss: 0.6009 - acc: 0.3991 - val_loss: 0.5904 - val_acc: 0.4096\n",
      "Epoch 10/20\n",
      "10000/10000 [==============================] - 1s 133us/step - loss: 0.6009 - acc: 0.3991 - val_loss: 0.5904 - val_acc: 0.4096\n",
      "Epoch 11/20\n",
      "10000/10000 [==============================] - 1s 127us/step - loss: 0.6009 - acc: 0.3991 - val_loss: 0.5904 - val_acc: 0.4096\n",
      "Epoch 12/20\n",
      "10000/10000 [==============================] - 1s 121us/step - loss: 0.6009 - acc: 0.3991 - val_loss: 0.5904 - val_acc: 0.4096\n",
      "Epoch 13/20\n",
      "10000/10000 [==============================] - 1s 129us/step - loss: 0.6009 - acc: 0.3991 - val_loss: 0.5904 - val_acc: 0.4096\n",
      "Epoch 14/20\n",
      "10000/10000 [==============================] - 1s 126us/step - loss: 0.6009 - acc: 0.3991 - val_loss: 0.5904 - val_acc: 0.4096\n",
      "Epoch 15/20\n",
      "10000/10000 [==============================] - 1s 117us/step - loss: 0.6009 - acc: 0.3991 - val_loss: 0.5904 - val_acc: 0.4096\n",
      "Epoch 16/20\n",
      "10000/10000 [==============================] - 1s 118us/step - loss: 0.6009 - acc: 0.3991 - val_loss: 0.5904 - val_acc: 0.4096\n",
      "Epoch 17/20\n",
      "10000/10000 [==============================] - 1s 130us/step - loss: 0.6009 - acc: 0.3991 - val_loss: 0.5904 - val_acc: 0.4096\n",
      "Epoch 18/20\n",
      "10000/10000 [==============================] - 1s 121us/step - loss: 0.6009 - acc: 0.3991 - val_loss: 0.5904 - val_acc: 0.4096\n",
      "Epoch 19/20\n",
      "10000/10000 [==============================] - 1s 128us/step - loss: 0.6009 - acc: 0.3991 - val_loss: 0.5904 - val_acc: 0.4096\n",
      "Epoch 20/20\n",
      "10000/10000 [==============================] - 1s 128us/step - loss: 0.6009 - acc: 0.3991 - val_loss: 0.5904 - val_acc: 0.4096\n"
     ]
    },
    {
     "data": {
      "text/plain": [
       "<keras.callbacks.History at 0x1e70c468b38>"
      ]
     },
     "execution_count": 86,
     "metadata": {},
     "output_type": "execute_result"
    }
   ],
   "source": [
    "Smodel.fit(x=train_s_x, y=train_s_y,  epochs=20, validation_data=(test_s_x, test_s_y))"
   ]
  },
  {
   "cell_type": "markdown",
   "metadata": {},
   "source": [
    "먼저 4개의 layer을 통해서 어떠한 결과를 갖는지 학습을 시켜보았다.\n",
    "acc와 val_acc가 비슷한 것으로 보아 underfit 되었다고 생각하여 layer을 하나 더 추가하여 결과를 보았다."
   ]
  },
  {
   "cell_type": "code",
   "execution_count": 87,
   "metadata": {},
   "outputs": [
    {
     "name": "stdout",
     "output_type": "stream",
     "text": [
      "Train on 10000 samples, validate on 10000 samples\n",
      "Epoch 1/20\n",
      "10000/10000 [==============================] - 1s 139us/step - loss: 0.3991 - acc: 0.6009 - val_loss: 0.4096 - val_acc: 0.5904\n",
      "Epoch 2/20\n",
      "10000/10000 [==============================] - 1s 132us/step - loss: 0.3991 - acc: 0.6009 - val_loss: 0.4096 - val_acc: 0.5904\n",
      "Epoch 3/20\n",
      "10000/10000 [==============================] - 1s 133us/step - loss: 0.3991 - acc: 0.6009 - val_loss: 0.4096 - val_acc: 0.5904\n",
      "Epoch 4/20\n",
      "10000/10000 [==============================] - 1s 131us/step - loss: 0.3991 - acc: 0.6009 - val_loss: 0.4096 - val_acc: 0.5904\n",
      "Epoch 5/20\n",
      "10000/10000 [==============================] - 1s 135us/step - loss: 0.3991 - acc: 0.6009 - val_loss: 0.4096 - val_acc: 0.5904\n",
      "Epoch 6/20\n",
      "10000/10000 [==============================] - 1s 127us/step - loss: 0.3991 - acc: 0.6009 - val_loss: 0.4096 - val_acc: 0.5904\n",
      "Epoch 7/20\n",
      "10000/10000 [==============================] - 1s 122us/step - loss: 0.3991 - acc: 0.6009 - val_loss: 0.4096 - val_acc: 0.5904\n",
      "Epoch 8/20\n",
      "10000/10000 [==============================] - 1s 122us/step - loss: 0.3991 - acc: 0.6009 - val_loss: 0.4096 - val_acc: 0.5904\n",
      "Epoch 9/20\n",
      "10000/10000 [==============================] - 1s 114us/step - loss: 0.3991 - acc: 0.6009 - val_loss: 0.4096 - val_acc: 0.5904\n",
      "Epoch 10/20\n",
      "10000/10000 [==============================] - 1s 120us/step - loss: 0.3991 - acc: 0.6009 - val_loss: 0.4096 - val_acc: 0.5904\n",
      "Epoch 11/20\n",
      "10000/10000 [==============================] - 1s 130us/step - loss: 0.3991 - acc: 0.6009 - val_loss: 0.4096 - val_acc: 0.5904\n",
      "Epoch 12/20\n",
      "10000/10000 [==============================] - 1s 127us/step - loss: 0.3991 - acc: 0.6009 - val_loss: 0.4096 - val_acc: 0.5904\n",
      "Epoch 13/20\n",
      "10000/10000 [==============================] - 2s 177us/step - loss: 0.3991 - acc: 0.6009 - val_loss: 0.4096 - val_acc: 0.5904\n",
      "Epoch 14/20\n",
      "10000/10000 [==============================] - 2s 158us/step - loss: 0.3991 - acc: 0.6009 - val_loss: 0.4096 - val_acc: 0.5904\n",
      "Epoch 15/20\n",
      "10000/10000 [==============================] - 1s 142us/step - loss: 0.3991 - acc: 0.6009 - val_loss: 0.4096 - val_acc: 0.5904\n",
      "Epoch 16/20\n",
      "10000/10000 [==============================] - 1s 135us/step - loss: 0.3991 - acc: 0.6009 - val_loss: 0.4096 - val_acc: 0.5904\n",
      "Epoch 17/20\n",
      "10000/10000 [==============================] - 1s 132us/step - loss: 0.3991 - acc: 0.6009 - val_loss: 0.4096 - val_acc: 0.5904\n",
      "Epoch 18/20\n",
      "10000/10000 [==============================] - 1s 132us/step - loss: 0.3991 - acc: 0.6009 - val_loss: 0.4096 - val_acc: 0.5904\n",
      "Epoch 19/20\n",
      "10000/10000 [==============================] - 1s 132us/step - loss: 0.3991 - acc: 0.6009 - val_loss: 0.4096 - val_acc: 0.5904\n",
      "Epoch 20/20\n",
      "10000/10000 [==============================] - 1s 139us/step - loss: 0.3991 - acc: 0.6009 - val_loss: 0.4096 - val_acc: 0.5904\n"
     ]
    },
    {
     "data": {
      "text/plain": [
       "<keras.callbacks.History at 0x1e75b7f47b8>"
      ]
     },
     "execution_count": 87,
     "metadata": {},
     "output_type": "execute_result"
    }
   ],
   "source": [
    "Smodel = Sequential()\n",
    "\n",
    "Smodel.add(InputLayer(input_shape=(7,)))\n",
    "\n",
    "Smodel.add(Dense(units=20, activation='relu'))\n",
    "Smodel.add(Dense(units=10, activation='relu'))\n",
    "Smodel.add(Dense(units=6, activation='relu'))\n",
    "Smodel.add(Dense(units=3, activation='relu'))\n",
    "Smodel.add(Dense(units=1, activation='sigmoid'))\n",
    "\n",
    "Smodel.compile(optimizer='sgd', loss='mean_squared_error', metrics=['accuracy'])\n",
    "Smodel.fit(x=train_s_x, y=train_s_y,  epochs=20, validation_data=(test_s_x, test_s_y))"
   ]
  },
  {
   "cell_type": "code",
   "execution_count": 88,
   "metadata": {},
   "outputs": [
    {
     "name": "stdout",
     "output_type": "stream",
     "text": [
      "Train on 10000 samples, validate on 10000 samples\n",
      "Epoch 1/20\n",
      "10000/10000 [==============================] - 2s 171us/step - loss: 0.3991 - acc: 0.6009 - val_loss: 0.4096 - val_acc: 0.5904\n",
      "Epoch 2/20\n",
      "10000/10000 [==============================] - 1s 140us/step - loss: 0.3991 - acc: 0.6009 - val_loss: 0.4096 - val_acc: 0.5904\n",
      "Epoch 3/20\n",
      "10000/10000 [==============================] - 1s 142us/step - loss: 0.3991 - acc: 0.6009 - val_loss: 0.4096 - val_acc: 0.5904\n",
      "Epoch 4/20\n",
      "10000/10000 [==============================] - 1s 142us/step - loss: 0.3991 - acc: 0.6009 - val_loss: 0.4096 - val_acc: 0.5904\n",
      "Epoch 5/20\n",
      "10000/10000 [==============================] - 1s 138us/step - loss: 0.3991 - acc: 0.6009 - val_loss: 0.4096 - val_acc: 0.5904\n",
      "Epoch 6/20\n",
      "10000/10000 [==============================] - 1s 139us/step - loss: 0.3991 - acc: 0.6009 - val_loss: 0.4096 - val_acc: 0.5904\n",
      "Epoch 7/20\n",
      "10000/10000 [==============================] - 1s 140us/step - loss: 0.3991 - acc: 0.6009 - val_loss: 0.4096 - val_acc: 0.5904\n",
      "Epoch 8/20\n",
      "10000/10000 [==============================] - 1s 142us/step - loss: 0.3991 - acc: 0.6009 - val_loss: 0.4096 - val_acc: 0.5904\n",
      "Epoch 9/20\n",
      "10000/10000 [==============================] - 1s 139us/step - loss: 0.3991 - acc: 0.6009 - val_loss: 0.4096 - val_acc: 0.5904\n",
      "Epoch 10/20\n",
      "10000/10000 [==============================] - 1s 137us/step - loss: 0.3991 - acc: 0.6009 - val_loss: 0.4096 - val_acc: 0.5904\n",
      "Epoch 11/20\n",
      "10000/10000 [==============================] - 1s 142us/step - loss: 0.3991 - acc: 0.6009 - val_loss: 0.4096 - val_acc: 0.5904\n",
      "Epoch 12/20\n",
      "10000/10000 [==============================] - 1s 142us/step - loss: 0.3991 - acc: 0.6009 - val_loss: 0.4096 - val_acc: 0.5904\n",
      "Epoch 13/20\n",
      "10000/10000 [==============================] - 1s 145us/step - loss: 0.3991 - acc: 0.6009 - val_loss: 0.4096 - val_acc: 0.5904\n",
      "Epoch 14/20\n",
      "10000/10000 [==============================] - 1s 145us/step - loss: 0.3991 - acc: 0.6009 - val_loss: 0.4096 - val_acc: 0.5904\n",
      "Epoch 15/20\n",
      "10000/10000 [==============================] - 1s 142us/step - loss: 0.3991 - acc: 0.6009 - val_loss: 0.4096 - val_acc: 0.5904\n",
      "Epoch 16/20\n",
      "10000/10000 [==============================] - 1s 141us/step - loss: 0.3991 - acc: 0.6009 - val_loss: 0.4096 - val_acc: 0.5904\n",
      "Epoch 17/20\n",
      "10000/10000 [==============================] - 1s 144us/step - loss: 0.3991 - acc: 0.6009 - val_loss: 0.4096 - val_acc: 0.5904\n",
      "Epoch 18/20\n",
      "10000/10000 [==============================] - 1s 142us/step - loss: 0.3991 - acc: 0.6009 - val_loss: 0.4096 - val_acc: 0.5904\n",
      "Epoch 19/20\n",
      "10000/10000 [==============================] - 1s 141us/step - loss: 0.3991 - acc: 0.6009 - val_loss: 0.4096 - val_acc: 0.5904\n",
      "Epoch 20/20\n",
      "10000/10000 [==============================] - 1s 143us/step - loss: 0.3991 - acc: 0.6009 - val_loss: 0.4096 - val_acc: 0.5904\n"
     ]
    },
    {
     "data": {
      "text/plain": [
       "<keras.callbacks.History at 0x1e766e86dd8>"
      ]
     },
     "execution_count": 88,
     "metadata": {},
     "output_type": "execute_result"
    }
   ],
   "source": [
    "Smodel = Sequential()\n",
    "\n",
    "Smodel.add(InputLayer(input_shape=(7,)))\n",
    "\n",
    "Smodel.add(Dense(units=50, activation='relu'))\n",
    "Smodel.add(Dense(units=20, activation='relu'))\n",
    "Smodel.add(Dense(units=10, activation='relu'))\n",
    "Smodel.add(Dense(units=6, activation='relu'))\n",
    "Smodel.add(Dense(units=3, activation='relu'))\n",
    "Smodel.add(Dense(units=1, activation='sigmoid'))\n",
    "\n",
    "Smodel.compile(optimizer='sgd', loss='mean_squared_error', metrics=['accuracy'])\n",
    "Smodel.fit(x=train_s_x, y=train_s_y,  epochs=20, validation_data=(test_s_x, test_s_y))"
   ]
  },
  {
   "cell_type": "markdown",
   "metadata": {},
   "source": [
    "regularizer를 추가하여 학습하여 보았다."
   ]
  },
  {
   "cell_type": "code",
   "execution_count": 89,
   "metadata": {},
   "outputs": [],
   "source": [
    "from keras.regularizers import l2"
   ]
  },
  {
   "cell_type": "code",
   "execution_count": 90,
   "metadata": {},
   "outputs": [
    {
     "name": "stdout",
     "output_type": "stream",
     "text": [
      "Train on 10000 samples, validate on 10000 samples\n",
      "Epoch 1/20\n",
      "10000/10000 [==============================] - 2s 198us/step - loss: 0.7423 - acc: 0.6009 - val_loss: 0.7317 - val_acc: 0.5904\n",
      "Epoch 2/20\n",
      "10000/10000 [==============================] - 1s 144us/step - loss: 0.7019 - acc: 0.6009 - val_loss: 0.6938 - val_acc: 0.5904\n",
      "Epoch 3/20\n",
      "10000/10000 [==============================] - 1s 142us/step - loss: 0.6663 - acc: 0.6009 - val_loss: 0.6603 - val_acc: 0.5904\n",
      "Epoch 4/20\n",
      "10000/10000 [==============================] - 1s 144us/step - loss: 0.6348 - acc: 0.6009 - val_loss: 0.6308 - val_acc: 0.5904\n",
      "Epoch 5/20\n",
      "10000/10000 [==============================] - 1s 143us/step - loss: 0.6071 - acc: 0.6009 - val_loss: 0.6048 - val_acc: 0.5904\n",
      "Epoch 6/20\n",
      "10000/10000 [==============================] - 1s 141us/step - loss: 0.5826 - acc: 0.6009 - val_loss: 0.5818 - val_acc: 0.5904\n",
      "Epoch 7/20\n",
      "10000/10000 [==============================] - 2s 151us/step - loss: 0.5610 - acc: 0.6009 - val_loss: 0.5616 - val_acc: 0.5904\n",
      "Epoch 8/20\n",
      "10000/10000 [==============================] - 2s 158us/step - loss: 0.5420 - acc: 0.6009 - val_loss: 0.5437 - val_acc: 0.5904\n",
      "Epoch 9/20\n",
      "10000/10000 [==============================] - 1s 145us/step - loss: 0.5252 - acc: 0.6009 - val_loss: 0.5279 - val_acc: 0.5904\n",
      "Epoch 10/20\n",
      "10000/10000 [==============================] - 1s 145us/step - loss: 0.5103 - acc: 0.6009 - val_loss: 0.5140 - val_acc: 0.5904\n",
      "Epoch 11/20\n",
      "10000/10000 [==============================] - 1s 143us/step - loss: 0.4972 - acc: 0.6009 - val_loss: 0.5017 - val_acc: 0.5904\n",
      "Epoch 12/20\n",
      "10000/10000 [==============================] - 1s 144us/step - loss: 0.4857 - acc: 0.6009 - val_loss: 0.4908 - val_acc: 0.5904\n",
      "Epoch 13/20\n",
      "10000/10000 [==============================] - 1s 143us/step - loss: 0.4755 - acc: 0.6009 - val_loss: 0.4813 - val_acc: 0.5904\n",
      "Epoch 14/20\n",
      "10000/10000 [==============================] - 1s 143us/step - loss: 0.4665 - acc: 0.6009 - val_loss: 0.4728 - val_acc: 0.5904\n",
      "Epoch 15/20\n",
      "10000/10000 [==============================] - 1s 141us/step - loss: 0.4586 - acc: 0.6009 - val_loss: 0.4654 - val_acc: 0.5904\n",
      "Epoch 16/20\n",
      "10000/10000 [==============================] - 1s 144us/step - loss: 0.4516 - acc: 0.6009 - val_loss: 0.4588 - val_acc: 0.5904\n",
      "Epoch 17/20\n",
      "10000/10000 [==============================] - 1s 147us/step - loss: 0.4454 - acc: 0.6009 - val_loss: 0.4530 - val_acc: 0.5904\n",
      "Epoch 18/20\n",
      "10000/10000 [==============================] - 1s 143us/step - loss: 0.4399 - acc: 0.6009 - val_loss: 0.4479 - val_acc: 0.5904\n",
      "Epoch 19/20\n",
      "10000/10000 [==============================] - 1s 144us/step - loss: 0.4351 - acc: 0.6009 - val_loss: 0.4434 - val_acc: 0.5904\n",
      "Epoch 20/20\n",
      "10000/10000 [==============================] - 1s 140us/step - loss: 0.4309 - acc: 0.6009 - val_loss: 0.4394 - val_acc: 0.5904\n"
     ]
    },
    {
     "data": {
      "text/plain": [
       "<keras.callbacks.History at 0x1e768b80c18>"
      ]
     },
     "execution_count": 90,
     "metadata": {},
     "output_type": "execute_result"
    }
   ],
   "source": [
    "Smodel = Sequential()\n",
    "\n",
    "Smodel.add(InputLayer(input_shape=(7,)))\n",
    "\n",
    "Smodel.add(Dense(units=20, activation='relu',kernel_regularizer=l2(), bias_regularizer=l2()))\n",
    "Smodel.add(Dense(units=10, activation='relu',kernel_regularizer=l2(), bias_regularizer=l2()))\n",
    "Smodel.add(Dense(units=6, activation='relu',kernel_regularizer=l2(), bias_regularizer=l2()))\n",
    "Smodel.add(Dense(units=3, activation='relu',kernel_regularizer=l2(), bias_regularizer=l2()))\n",
    "Smodel.add(Dense(units=1, activation='sigmoid',kernel_regularizer=l2(), bias_regularizer=l2()))\n",
    "\n",
    "Smodel.compile(optimizer='sgd', loss='mean_squared_error', metrics=['accuracy'])\n",
    "Smodel.fit(x=train_s_x, y=train_s_y,  epochs=20, validation_data=(test_s_x, test_s_y))"
   ]
  },
  {
   "cell_type": "code",
   "execution_count": 91,
   "metadata": {},
   "outputs": [
    {
     "name": "stdout",
     "output_type": "stream",
     "text": [
      "Train on 10000 samples, validate on 10000 samples\n",
      "Epoch 1/20\n",
      "10000/10000 [==============================] - 2s 153us/step - loss: 0.7104 - acc: 0.3991 - val_loss: 0.6932 - val_acc: 0.4096\n",
      "Epoch 2/20\n",
      "10000/10000 [==============================] - 1s 124us/step - loss: 0.6975 - acc: 0.3991 - val_loss: 0.6811 - val_acc: 0.4096\n",
      "Epoch 3/20\n",
      "10000/10000 [==============================] - 1s 123us/step - loss: 0.6862 - acc: 0.3991 - val_loss: 0.6704 - val_acc: 0.4096\n",
      "Epoch 4/20\n",
      "10000/10000 [==============================] - 1s 125us/step - loss: 0.6761 - acc: 0.3991 - val_loss: 0.6610 - val_acc: 0.4096\n",
      "Epoch 5/20\n",
      "10000/10000 [==============================] - 1s 124us/step - loss: 0.6673 - acc: 0.3991 - val_loss: 0.6527 - val_acc: 0.4096\n",
      "Epoch 6/20\n",
      "10000/10000 [==============================] - 1s 125us/step - loss: 0.6595 - acc: 0.3991 - val_loss: 0.6454 - val_acc: 0.4096\n",
      "Epoch 7/20\n",
      "10000/10000 [==============================] - 1s 125us/step - loss: 0.6526 - acc: 0.3991 - val_loss: 0.6389 - val_acc: 0.4096\n",
      "Epoch 8/20\n",
      "10000/10000 [==============================] - 1s 123us/step - loss: 0.6465 - acc: 0.3991 - val_loss: 0.6332 - val_acc: 0.4096\n",
      "Epoch 9/20\n",
      "10000/10000 [==============================] - 1s 124us/step - loss: 0.6411 - acc: 0.3991 - val_loss: 0.6282 - val_acc: 0.4096\n",
      "Epoch 10/20\n",
      "10000/10000 [==============================] - 1s 125us/step - loss: 0.6364 - acc: 0.3991 - val_loss: 0.6237 - val_acc: 0.4096\n",
      "Epoch 11/20\n",
      "10000/10000 [==============================] - 1s 122us/step - loss: 0.6322 - acc: 0.3991 - val_loss: 0.6198 - val_acc: 0.4096\n",
      "Epoch 12/20\n",
      "10000/10000 [==============================] - 1s 121us/step - loss: 0.6285 - acc: 0.3991 - val_loss: 0.6163 - val_acc: 0.4096\n",
      "Epoch 13/20\n",
      "10000/10000 [==============================] - 1s 122us/step - loss: 0.6253 - acc: 0.3991 - val_loss: 0.6133 - val_acc: 0.4096\n",
      "Epoch 14/20\n",
      "10000/10000 [==============================] - 1s 121us/step - loss: 0.6224 - acc: 0.3991 - val_loss: 0.6106 - val_acc: 0.4096\n",
      "Epoch 15/20\n",
      "10000/10000 [==============================] - 1s 120us/step - loss: 0.6199 - acc: 0.3991 - val_loss: 0.6082 - val_acc: 0.4096\n",
      "Epoch 16/20\n",
      "10000/10000 [==============================] - 1s 119us/step - loss: 0.6176 - acc: 0.3991 - val_loss: 0.6061 - val_acc: 0.4096\n",
      "Epoch 17/20\n",
      "10000/10000 [==============================] - 1s 122us/step - loss: 0.6157 - acc: 0.3991 - val_loss: 0.6043 - val_acc: 0.4096\n",
      "Epoch 18/20\n",
      "10000/10000 [==============================] - 1s 125us/step - loss: 0.6139 - acc: 0.3991 - val_loss: 0.6026 - val_acc: 0.4096\n",
      "Epoch 19/20\n",
      "10000/10000 [==============================] - 1s 122us/step - loss: 0.6124 - acc: 0.3991 - val_loss: 0.6012 - val_acc: 0.4096\n",
      "Epoch 20/20\n",
      "10000/10000 [==============================] - 1s 127us/step - loss: 0.6110 - acc: 0.3991 - val_loss: 0.5999 - val_acc: 0.4096\n"
     ]
    },
    {
     "data": {
      "text/plain": [
       "<keras.callbacks.History at 0x1e76aa97588>"
      ]
     },
     "execution_count": 91,
     "metadata": {},
     "output_type": "execute_result"
    }
   ],
   "source": [
    "Smodel = Sequential()\n",
    "\n",
    "Smodel.add(InputLayer(input_shape=(7,)))\n",
    "\n",
    "Smodel.add(Dense(units=6, activation='relu',kernel_regularizer=l2(), bias_regularizer=l2()))\n",
    "Smodel.add(Dense(units=3, activation='relu',kernel_regularizer=l2(), bias_regularizer=l2()))\n",
    "Smodel.add(Dense(units=1, activation='sigmoid',kernel_regularizer=l2(), bias_regularizer=l2()))\n",
    "\n",
    "Smodel.compile(optimizer='sgd', loss='mean_squared_error', metrics=['accuracy'])\n",
    "\n",
    "Smodel.fit(x=train_s_x, y=train_s_y,  epochs=20, validation_data=(test_s_x, test_s_y))"
   ]
  },
  {
   "cell_type": "code",
   "execution_count": 92,
   "metadata": {},
   "outputs": [
    {
     "name": "stdout",
     "output_type": "stream",
     "text": [
      "Train on 10000 samples, validate on 10000 samples\n",
      "Epoch 1/20\n",
      "10000/10000 [==============================] - 1s 149us/step - loss: 0.6815 - acc: 0.3991 - val_loss: 0.6660 - val_acc: 0.4096\n",
      "Epoch 2/20\n",
      "10000/10000 [==============================] - 1s 115us/step - loss: 0.6720 - acc: 0.3991 - val_loss: 0.6571 - val_acc: 0.4096\n",
      "Epoch 3/20\n",
      "10000/10000 [==============================] - 1s 114us/step - loss: 0.6636 - acc: 0.3991 - val_loss: 0.6493 - val_acc: 0.4096\n",
      "Epoch 4/20\n",
      "10000/10000 [==============================] - 1s 116us/step - loss: 0.6562 - acc: 0.3991 - val_loss: 0.6423 - val_acc: 0.4096\n",
      "Epoch 5/20\n",
      "10000/10000 [==============================] - 1s 115us/step - loss: 0.6497 - acc: 0.3991 - val_loss: 0.6362 - val_acc: 0.4096\n",
      "Epoch 6/20\n",
      "10000/10000 [==============================] - 1s 115us/step - loss: 0.6440 - acc: 0.3991 - val_loss: 0.6308 - val_acc: 0.4096\n",
      "Epoch 7/20\n",
      "10000/10000 [==============================] - 1s 113us/step - loss: 0.6389 - acc: 0.3991 - val_loss: 0.6261 - val_acc: 0.4096\n",
      "Epoch 8/20\n",
      "10000/10000 [==============================] - 1s 112us/step - loss: 0.6344 - acc: 0.3991 - val_loss: 0.6219 - val_acc: 0.4096\n",
      "Epoch 9/20\n",
      "10000/10000 [==============================] - 1s 120us/step - loss: 0.6305 - acc: 0.3991 - val_loss: 0.6182 - val_acc: 0.4096\n",
      "Epoch 10/20\n",
      "10000/10000 [==============================] - 1s 121us/step - loss: 0.6270 - acc: 0.3991 - val_loss: 0.6149 - val_acc: 0.4096\n",
      "Epoch 11/20\n",
      "10000/10000 [==============================] - 1s 114us/step - loss: 0.6239 - acc: 0.3991 - val_loss: 0.6120 - val_acc: 0.4096\n",
      "Epoch 12/20\n",
      "10000/10000 [==============================] - 1s 121us/step - loss: 0.6212 - acc: 0.3991 - val_loss: 0.6095 - val_acc: 0.4096\n",
      "Epoch 13/20\n",
      "10000/10000 [==============================] - 1s 105us/step - loss: 0.6188 - acc: 0.3991 - val_loss: 0.6072 - val_acc: 0.4096\n",
      "Epoch 14/20\n",
      "10000/10000 [==============================] - 1s 96us/step - loss: 0.6167 - acc: 0.3991 - val_loss: 0.6052 - val_acc: 0.4096\n",
      "Epoch 15/20\n",
      "10000/10000 [==============================] - 1s 99us/step - loss: 0.6149 - acc: 0.3991 - val_loss: 0.6035 - val_acc: 0.4096\n",
      "Epoch 16/20\n",
      "10000/10000 [==============================] - 1s 102us/step - loss: 0.6132 - acc: 0.3991 - val_loss: 0.6020 - val_acc: 0.4096\n",
      "Epoch 17/20\n",
      "10000/10000 [==============================] - 1s 120us/step - loss: 0.6118 - acc: 0.3991 - val_loss: 0.6006 - val_acc: 0.4096\n",
      "Epoch 18/20\n",
      "10000/10000 [==============================] - 1s 97us/step - loss: 0.6105 - acc: 0.3991 - val_loss: 0.5994 - val_acc: 0.4096\n",
      "Epoch 19/20\n",
      "10000/10000 [==============================] - 1s 120us/step - loss: 0.6094 - acc: 0.3991 - val_loss: 0.5983 - val_acc: 0.4096\n",
      "Epoch 20/20\n",
      "10000/10000 [==============================] - 1s 103us/step - loss: 0.6084 - acc: 0.3991 - val_loss: 0.5974 - val_acc: 0.4096\n"
     ]
    },
    {
     "data": {
      "text/plain": [
       "<keras.callbacks.History at 0x1e76bf6ebe0>"
      ]
     },
     "execution_count": 92,
     "metadata": {},
     "output_type": "execute_result"
    }
   ],
   "source": [
    "Smodel = Sequential()\n",
    "\n",
    "Smodel.add(InputLayer(input_shape=(7,)))\n",
    "\n",
    "Smodel.add(Dense(units=10, activation='relu',kernel_regularizer=l2(), bias_regularizer=l2()))\n",
    "Smodel.add(Dense(units=1, activation='sigmoid',kernel_regularizer=l2(), bias_regularizer=l2()))\n",
    "\n",
    "Smodel.compile(optimizer='sgd', loss='mean_squared_error', metrics=['accuracy'])\n",
    "Smodel.fit(x=train_s_x, y=train_s_y,  epochs=20, validation_data=(test_s_x, test_s_y))"
   ]
  },
  {
   "cell_type": "markdown",
   "metadata": {},
   "source": [
    "다양한 값들에 대해 실험을 해 보았지만 MLP와 마찬가지로 똑같은 값이 나와 실패하였다. hidden layer을 늘려도 똑같고, 다양한 변화를 시도해 보아도 결국 얻을 수 있는 값이 동일했다. vanishing gradient의 문제를 겪으며 성능이 좋아지지 않는 것을 보인다. 이를 통해 알 수 있던 것은 Perceptron의 단점을 neural network 딥러닝에서도 동일하게 지니고 있다는 점이다. 그래서 머신러닝을 통해서도 MLP를 사용하였을 때와 동일하게 최대 성능 60% 정도로 좋지 않은 결과를 보였다."
   ]
  },
  {
   "cell_type": "markdown",
   "metadata": {},
   "source": [
    "## 결론\n",
    "\n",
    "Kickstarter의 결과 예측의 모델의 경우 Random Forest를 이용하여 모델을 생성하였을 때 68%로 가장 좋은 성능을 보였다. 그리고 Multi-Layered Perceptron과 딥러닝 라이브러리를 이용하였을 때는 오히려 underfit되어 Decision Tree보다도 좋지 않은 성능을 보였다. 이를 통해서 kickstarter와 같이 크고 단순한 데이터에 관해서는 복잡하고 엉켜있는 neural network보다는 오히려 단순한 모델이 더 빠르고 좋은 성능을 나타낸다는 사실을 알 수 있었다."
   ]
  }
 ],
 "metadata": {
  "kernelspec": {
   "display_name": "Python 3",
   "language": "python",
   "name": "python3"
  },
  "language_info": {
   "codemirror_mode": {
    "name": "ipython",
    "version": 3
   },
   "file_extension": ".py",
   "mimetype": "text/x-python",
   "name": "python",
   "nbconvert_exporter": "python",
   "pygments_lexer": "ipython3",
   "version": "3.6.4"
  }
 },
 "nbformat": 4,
 "nbformat_minor": 2
}
